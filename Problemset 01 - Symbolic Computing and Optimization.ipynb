{
 "cells": [
  {
   "cell_type": "markdown",
   "metadata": {},
   "source": [
    "## EJECUTA ESTA CELDA PARA AUTENTICARTE CON TU CUENTA DE GMAIL"
   ]
  },
  {
   "cell_type": "code",
   "execution_count": null,
   "metadata": {
    "collapsed": false
   },
   "outputs": [],
   "source": [
    "from mooclib import *\n",
    "import inspect, urllib\n",
    "html, auth_code, userinfo = google_authenticate(PORT_NUMBER=8080)\n",
    "html"
   ]
  },
  {
   "cell_type": "code",
   "execution_count": null,
   "metadata": {
    "collapsed": true
   },
   "outputs": [],
   "source": [
    "import numpy as np\n",
    "import sympy as sym\n",
    "from scipy.optimize import minimize\n",
    "import matplotlib.pyplot as plt\n",
    "\n",
    "sym.init_printing(use_latex=True)\n",
    "%matplotlib inline"
   ]
  },
  {
   "cell_type": "markdown",
   "metadata": {},
   "source": [
    "# Ejercicio 1. Variables simbólicas\n",
    "\n",
    "Fíjate como se crea una lista de símbolos indexados en Sympy"
   ]
  },
  {
   "cell_type": "code",
   "execution_count": null,
   "metadata": {
    "collapsed": false
   },
   "outputs": [],
   "source": [
    "s = sym.symbols(\"x_0 x_1 x_2\")\n",
    "s"
   ]
  },
  {
   "cell_type": "markdown",
   "metadata": {},
   "source": [
    "o también"
   ]
  },
  {
   "cell_type": "code",
   "execution_count": null,
   "metadata": {
    "collapsed": false
   },
   "outputs": [],
   "source": [
    "s = [sym.symbols(\"x_0\"), sym.symbols(\"x_1\"), sym.symbols(\"x_2\")]\n",
    "s"
   ]
  },
  {
   "cell_type": "markdown",
   "metadata": {},
   "source": [
    "**EJERCICIO**: implementa la siguiente función para que devuelva una lista de símbolos `Sympy` llamados [$x_0, x_1,...,x_{N-1}$]"
   ]
  },
  {
   "cell_type": "code",
   "execution_count": null,
   "metadata": {
    "collapsed": false
   },
   "outputs": [],
   "source": [
    "def sym_x_list(N):\n",
    "    import sympy as sym\n",
    "    \n",
    "    syms = ... ## TU CODIGO AQUI\n",
    "    return syms\n",
    "\n",
    "import urllib, inspect\n",
    "src1 = urllib.quote_plus(inspect.getsource(sym_x_list))"
   ]
  },
  {
   "cell_type": "markdown",
   "metadata": {},
   "source": [
    "#### evaluate your answer before submitting:"
   ]
  },
  {
   "cell_type": "code",
   "execution_count": null,
   "metadata": {
    "collapsed": false
   },
   "outputs": [],
   "source": [
    "!./run CHECK_SOLUTION PS1_1 $src1"
   ]
  },
  {
   "cell_type": "markdown",
   "metadata": {},
   "source": [
    "#### submit your answer (you must be connected to internet)"
   ]
  },
  {
   "cell_type": "code",
   "execution_count": null,
   "metadata": {
    "collapsed": false
   },
   "outputs": [],
   "source": [
    "!./run SUBMIT_SOLUTION PS1_1 $src1"
   ]
  },
  {
   "cell_type": "markdown",
   "metadata": {},
   "source": [
    "# Ejercicio 2. Función de Rosenbrock"
   ]
  },
  {
   "cell_type": "markdown",
   "metadata": {},
   "source": [
    "fíjate como de una lista de símbolos podemos construir una expresión `Sympy` combinándolos para crear la expresión desarrollada de:\n",
    "\n",
    "$$\\sum_{i=0}^2 (x_i+1)^2$$"
   ]
  },
  {
   "cell_type": "code",
   "execution_count": null,
   "metadata": {
    "collapsed": false
   },
   "outputs": [],
   "source": [
    "s = sym.symbols(\"x_0 x_1 x_2\")\n",
    "np.sum([(x+1)**2 for x in s])"
   ]
  },
  {
   "cell_type": "markdown",
   "metadata": {},
   "source": [
    "**EJERCICIO**: implementa la siguiente función para que, dado un $N$, devuelva: (1) una lista de símbolos `Sympy` como en el ejercicio anterior, y (2) una expresión `Sympy` con la función de Rosenbrock según definida por:\n",
    "\n",
    "$$f(x)=\\sum_{i=1}^{N-1} (x_i-x_{i-1}^2)^2 + (1-x_{i-1})^2$$\n",
    "\n",
    "con $x= [x_0, ..., x_{N-1}]$ \n",
    "\n",
    "_sugerencia_: usa `np.sum` para el sumatorio como en el ejemplo anterior\n",
    "\n",
    "_observación_: **NO** llames a la función anterior para crear la lista de símbolos, simplemente copia el código a esta."
   ]
  },
  {
   "cell_type": "code",
   "execution_count": null,
   "metadata": {
    "collapsed": true
   },
   "outputs": [],
   "source": [
    "def rosenbrock_sym(N):\n",
    "    import sympy as sym\n",
    "    \n",
    "    syms = ... ## TU CODIGO AQUI\n",
    "    expr = ... ## TU CODIGO AQUI\n",
    "    \n",
    "    return syms, expr\n",
    "    \n",
    "import urllib, inspect\n",
    "src2 = urllib.quote_plus(inspect.getsource(rosenbrock_sym))"
   ]
  },
  {
   "cell_type": "code",
   "execution_count": null,
   "metadata": {
    "collapsed": false
   },
   "outputs": [],
   "source": [
    "syms, rs = rosenbrock_sym(2)\n",
    "syms, rs"
   ]
  },
  {
   "cell_type": "markdown",
   "metadata": {},
   "source": [
    "#### evaluate your answer before submitting:"
   ]
  },
  {
   "cell_type": "code",
   "execution_count": null,
   "metadata": {
    "collapsed": false
   },
   "outputs": [],
   "source": [
    "!./run CHECK_SOLUTION PS1_2 $src2"
   ]
  },
  {
   "cell_type": "markdown",
   "metadata": {},
   "source": [
    "#### submit your answer (you must be connected to internet)"
   ]
  },
  {
   "cell_type": "code",
   "execution_count": null,
   "metadata": {
    "collapsed": false
   },
   "outputs": [],
   "source": [
    "!./run SUBMIT_SOLUTION PS1_2 $src2"
   ]
  },
  {
   "cell_type": "markdown",
   "metadata": {
    "collapsed": false
   },
   "source": [
    "# Ejercicio 3. Función evaluable Python\n",
    "\n",
    "fíjate como, a partir de un ejemplo similar, creamos una función evaluable en Python de un solo argumento compuesto:"
   ]
  },
  {
   "cell_type": "code",
   "execution_count": null,
   "metadata": {
    "collapsed": false
   },
   "outputs": [],
   "source": [
    "def cuad_sum():\n",
    "    syms = sym.symbols(\"x_0 x_1 x_2\")\n",
    "    expr = np.sum([x**2 for x in syms])\n",
    "    return syms, expr\n",
    "\n",
    "syms, cuad = cuad_sum()\n",
    "syms, cuad"
   ]
  },
  {
   "cell_type": "code",
   "execution_count": null,
   "metadata": {
    "collapsed": false
   },
   "outputs": [],
   "source": [
    "cuadft = sym.lambdify([syms], cuad, \"numpy\")\n",
    "cuadft([0,0,0]), cuadft([1,2,3])"
   ]
  },
  {
   "cell_type": "markdown",
   "metadata": {},
   "source": [
    "fíjate además cómo es la función de Rosenbrock de dos variables, si la definimos directamente en Python"
   ]
  },
  {
   "cell_type": "code",
   "execution_count": null,
   "metadata": {
    "collapsed": false
   },
   "outputs": [],
   "source": [
    "def plot_contour(f, x_points=None, y_points=None,  x_range=np.arange(-2, 2, .1), y_range=np.arange(-2, 2, .1),):\n",
    "    X, Y = np.meshgrid(x_range, y_range)\n",
    "    print \"Mesh size\", X.shape\n",
    "    Z = np.array([[f(np.array([X[i,j], Y[i,j]])) for j in range(len(X[i]))] for i in range(len(X))])\n",
    "    CS = plt.contourf(X, Y, Z, 20, cmap=plt.cm.hot)\n",
    "    if x_points is not None:\n",
    "        plt.scatter(x_points, y_points, c=\"white\")\n",
    "    return X, Y, Z\n",
    "\n",
    "def fr(x):\n",
    "    return sum((x[1:]-x[:-1]**2.0)**2.0 + (1-x[:-1])**2.0)\n",
    "\n",
    "plot_contour(fr, x_points=[1], y_points=[1]);"
   ]
  },
  {
   "cell_type": "markdown",
   "metadata": {},
   "source": [
    "**EJERCICIO**: implementa la función siguiente para que devuelva la función de Rosenbrock evaluable en Python para un número $N$ de variables. Tu implementación ha de crear una representación simbólica de la función como en los ejercicios anteriores y usar `lambidfy` según explicado arriba.\n",
    "\n",
    "_observación_: **NO** llames a funciones de ejercicios anteriores, simplemente copia el código a esta si lo necesitas."
   ]
  },
  {
   "cell_type": "code",
   "execution_count": null,
   "metadata": {
    "collapsed": false
   },
   "outputs": [],
   "source": [
    "def rosenbrock_python(N):\n",
    "    import sympy as sym\n",
    "    \n",
    "    syms = ... ## TU CODIGO AQUI\n",
    "    \n",
    "    expr = ... ## TU CODIGO AQUI\n",
    "\n",
    "    function = ... ## TU CODIGO AQUI\n",
    "    \n",
    "    return function\n",
    "\n",
    "import urllib, inspect\n",
    "src3 = urllib.quote_plus(inspect.getsource(rosenbrock_python))"
   ]
  },
  {
   "cell_type": "markdown",
   "metadata": {},
   "source": [
    "comprueba tu código, ambas columnas han de tener los mismos valores y el plot ha de ser igual al anterior"
   ]
  },
  {
   "cell_type": "code",
   "execution_count": null,
   "metadata": {
    "collapsed": false
   },
   "outputs": [],
   "source": [
    "print \"N pyth  sympy\"\n",
    "for i in range(5):\n",
    "    N = np.random.randint(3)+2\n",
    "    x = np.random.random(size=N)\n",
    "    print N, \"%.3f\"%fr(x), \"%.3f\"%rosenbrock_python(N)(x)\n",
    "    \n",
    "    \n",
    "f = rosenbrock_python(2)\n",
    "plot_contour(f, x_points=[1], y_points=[1]);"
   ]
  },
  {
   "cell_type": "markdown",
   "metadata": {},
   "source": [
    "#### evaluate your answer before submitting:"
   ]
  },
  {
   "cell_type": "code",
   "execution_count": null,
   "metadata": {
    "collapsed": false
   },
   "outputs": [],
   "source": [
    "!./run CHECK_SOLUTION PS1_3 $src3"
   ]
  },
  {
   "cell_type": "markdown",
   "metadata": {},
   "source": [
    "#### submit your answer (you must be connected to internet)"
   ]
  },
  {
   "cell_type": "code",
   "execution_count": null,
   "metadata": {
    "collapsed": false
   },
   "outputs": [],
   "source": [
    "!./run SUBMIT_SOLUTION PS1_3 $src3"
   ]
  },
  {
   "cell_type": "markdown",
   "metadata": {
    "collapsed": true
   },
   "source": [
    "# Ejercicio 4. Derivadas evaluables\n",
    "\n",
    "define la función siguiente para que devuelva una **lista de $N$ funciones evaluables Python** con las derivadas parciales de la función de Rosenbrock de $N$ dimensiones. Tu implementación ha de crear una representación simbólica de la función como en los ejercicios anteriores, hallar las derivadas con `Sympy` y usar `lambidfy` según explicado arriba.\n",
    "\n",
    "_observación_: **NO** llames a funciones de ejercicios anteriores, simplemente copia el código a esta si lo necesitas."
   ]
  },
  {
   "cell_type": "code",
   "execution_count": null,
   "metadata": {
    "collapsed": false
   },
   "outputs": [],
   "source": [
    "def rosenbrock_derivatives(N):\n",
    "    import sympy as sym\n",
    "    r = []\n",
    "    syms = ... ## TU CODIGO AQUI\n",
    "    expr = ... ## TU CODIGO AQUI\n",
    "    \n",
    "    for i in range(N):\n",
    "        derivative  = ... ## TU CODIGO AQUI\n",
    "        dfunction   = ... ## TU CODIGO AQUI\n",
    "        r.append(dfunction)\n",
    "    return r\n",
    "\n",
    "import urllib, inspect\n",
    "src4 = urllib.quote_plus(inspect.getsource(rosenbrock_derivatives))"
   ]
  },
  {
   "cell_type": "markdown",
   "metadata": {},
   "source": [
    "comprueba tu código\n",
    "- debes de devolver una lista de funciones\n",
    "- como sabemos que el mínimo siempre está en el punto $1^N$ todas las derivadas en ese punto han de ser cero y cualquier otro valor en otros puntos."
   ]
  },
  {
   "cell_type": "code",
   "execution_count": null,
   "metadata": {
    "collapsed": false
   },
   "outputs": [],
   "source": [
    "print \"N  at_MIN    at_random_point\"\n",
    "for i in range(5):\n",
    "    N = np.random.randint(7)+2\n",
    "    x = np.random.random(size=N)\n",
    "    xmin = np.ones(N)\n",
    "    ders = rosenbrock_derivatives(N)\n",
    "    \n",
    "    print N, \" % .3f\"%np.sum([f(xmin) for f in ders]), \"    % .3f\"%np.sum([f(x) for f in ders])"
   ]
  },
  {
   "cell_type": "markdown",
   "metadata": {},
   "source": [
    "#### evaluate your answer before submitting:"
   ]
  },
  {
   "cell_type": "code",
   "execution_count": null,
   "metadata": {
    "collapsed": false
   },
   "outputs": [],
   "source": [
    "!./run CHECK_SOLUTION PS1_4 $src4"
   ]
  },
  {
   "cell_type": "markdown",
   "metadata": {},
   "source": [
    "#### submit your answer (you must be connected to internet)"
   ]
  },
  {
   "cell_type": "code",
   "execution_count": null,
   "metadata": {
    "collapsed": false
   },
   "outputs": [],
   "source": [
    "!./run SUBMIT_SOLUTION PS1_4 $src4"
   ]
  },
  {
   "cell_type": "markdown",
   "metadata": {},
   "source": [
    "fíjate que ahora puedes usar el `minimize` con tus derivadas"
   ]
  },
  {
   "cell_type": "code",
   "execution_count": null,
   "metadata": {
    "collapsed": false
   },
   "outputs": [],
   "source": [
    "N  = 4\n",
    "fp = rosenbrock_python(N)\n",
    "jr = lambda x: np.array([f(x) for f in rosenbrock_derivatives(N)])\n",
    "x_init = np.random.random(N)*5\n",
    "x_init = np.zeros(N)\n",
    "r  = minimize(fp,x_init, method=\"BFGS\")\n",
    "print \"optimizacion sin derivadas\"\n",
    "print r\n",
    "\n",
    "print \"--\\noptimizacion con derivadas\"\n",
    "r = minimize(fp,x_init, jac=jr, method=\"BFGS\")\n",
    "print r"
   ]
  },
  {
   "cell_type": "code",
   "execution_count": null,
   "metadata": {
    "collapsed": true
   },
   "outputs": [],
   "source": []
  },
  {
   "cell_type": "markdown",
   "metadata": {},
   "source": [
    "# Ejercicio 5. Gradiente descendiente\n",
    "\n",
    "completa la función del gradiente descendiente para la función de Rosebrock. Tu implementación ha de crear una representación simbólica de la función como en los ejercicios anteriores, hallar las derivadas simbólicamente y usar `lambidfy` y `lambda` según explicado arriba.\n",
    "\n",
    "_observación_: **NO** llames a funciones de ejercicios anteriores, simplemente copia el código a esta si lo necesitas."
   ]
  },
  {
   "cell_type": "code",
   "execution_count": null,
   "metadata": {
    "collapsed": false
   },
   "outputs": [],
   "source": [
    "def rosen_gradient_descent(N, x_init=None, step_size=0.1, max_steps=100, min_delta=1e-3, plot=True):\n",
    "    import sympy as sym\n",
    "    \n",
    "    def rosenbrock_derivatives(N):\n",
    "        ... ## TU CODIGO AQUI CON LA SOLUCION DEL EJERCICIO ANTERIOR\n",
    "        return r   \n",
    "    \n",
    "    ders = rosenbrock_derivatives(N)\n",
    "    \n",
    "    r = np.array(x_init).astype(np.float) if x_init is not None else np.random.random(size=N)*4-2\n",
    "    r_list = [r.copy()]\n",
    "    for i in range(max_steps):\n",
    "        gradient = ... ## TU CODIGO AQUI. CALCULA EL VECTOR GRADIENTE\n",
    "        delta    = gradient*step_size\n",
    "        \n",
    "        if np.linalg.norm(delta)<min_delta:\n",
    "            break\n",
    "            \n",
    "        if plot:\n",
    "            plt.arrow(r[0], r[1], -delta[0], -delta[1], head_width=0.05, head_length=0.1, fc='white', ec='white')\n",
    "            \n",
    "        r = ... ## TU CODIGO AQUI. ACTUALIZA EL EL VALOR DE r CON delta\n",
    "        r_list += [r.copy()]\n",
    "    return r, np.array(r_list)\n",
    "\n",
    "\n",
    "import urllib, inspect\n",
    "src5 = urllib.quote_plus(inspect.getsource(rosen_gradient_descent))\n"
   ]
  },
  {
   "cell_type": "markdown",
   "metadata": {},
   "source": [
    "comprueba tu solución. la trayectoria seguida debe de acabar en el 1,1"
   ]
  },
  {
   "cell_type": "code",
   "execution_count": null,
   "metadata": {
    "collapsed": false
   },
   "outputs": [],
   "source": [
    "plot_contour(fr, x_points=[1], y_points=[1]);\n",
    "x, x_list = rosen_gradient_descent(2, x_init=[-2,1], step_size=.01, min_delta=1e-5, max_steps=1000)\n",
    "print x, len(x_list)"
   ]
  },
  {
   "cell_type": "code",
   "execution_count": null,
   "metadata": {
    "collapsed": false
   },
   "outputs": [],
   "source": [
    "plot_contour(fr, x_points=[1], y_points=[1]);\n",
    "x, x_list = rosen_gradient_descent(2, x_init=[2,-2], step_size=.01, min_delta=1e-5, max_steps=1000)"
   ]
  },
  {
   "cell_type": "markdown",
   "metadata": {},
   "source": [
    "#### evaluate your answer before submitting:"
   ]
  },
  {
   "cell_type": "code",
   "execution_count": null,
   "metadata": {
    "collapsed": false
   },
   "outputs": [],
   "source": [
    "!./run CHECK_SOLUTION PS1_5 $src5"
   ]
  },
  {
   "cell_type": "markdown",
   "metadata": {
    "collapsed": false
   },
   "source": [
    "#### submit your answer (you must be connected to internet)"
   ]
  },
  {
   "cell_type": "code",
   "execution_count": null,
   "metadata": {
    "collapsed": false
   },
   "outputs": [],
   "source": [
    "!./run SUBMIT_SOLUTION PS1_5 $src5"
   ]
  },
  {
   "cell_type": "code",
   "execution_count": null,
   "metadata": {
    "collapsed": true
   },
   "outputs": [],
   "source": []
  }
 ],
 "metadata": {
  "kernelspec": {
   "display_name": "Python 2",
   "language": "python",
   "name": "python2"
  },
  "language_info": {
   "codemirror_mode": {
    "name": "ipython",
    "version": 2
   },
   "file_extension": ".py",
   "mimetype": "text/x-python",
   "name": "python",
   "nbconvert_exporter": "python",
   "pygments_lexer": "ipython2",
   "version": "2.7.12"
  },
  "toc": {
   "toc_cell": false,
   "toc_number_sections": false,
   "toc_threshold": 6,
   "toc_window_display": false
  },
  "widgets": {
   "state": {},
   "version": "1.1.2"
  }
 },
 "nbformat": 4,
 "nbformat_minor": 0
}
