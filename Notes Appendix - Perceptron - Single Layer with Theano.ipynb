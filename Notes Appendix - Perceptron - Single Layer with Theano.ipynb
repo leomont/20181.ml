{
 "cells": [
  {
   "cell_type": "code",
   "execution_count": 1,
   "metadata": {
    "collapsed": false
   },
   "outputs": [],
   "source": [
    "from sklearn.datasets import make_moons, make_circles\n",
    "import numpy as np\n",
    "import matplotlib.pyplot as plt\n",
    "from scipy.optimize import minimize\n",
    "%matplotlib inline\n",
    "\n",
    "def plot_2Ddata_with_boundary(predict,X,y):\n",
    "    n = 200\n",
    "    mins,maxs = np.min(X,axis=0), np.max(X,axis=0)\n",
    "    mins -= np.abs(mins)*.2\n",
    "    maxs += np.abs(maxs)*.2\n",
    "    d0 = np.linspace(mins[0], maxs[0],n)\n",
    "    d1 = np.linspace(mins[1], maxs[1],n)\n",
    "    gd0,gd1 = np.meshgrid(d0,d1)\n",
    "    D = np.hstack((gd0.reshape(-1,1), gd1.reshape(-1,1)))\n",
    "    p = (predict(D)*1.).reshape((n,n))\n",
    "    plt.contourf(gd0,gd1,p, levels=[-0.1,0.5], alpha=0.5, cmap=plt.cm.Greys)\n",
    "    plt.scatter(X[y==0][:,0], X[y==0][:,1], c=\"blue\")\n",
    "    plt.scatter(X[y==1][:,0], X[y==1][:,1], c=\"red\")"
   ]
  },
  {
   "cell_type": "markdown",
   "metadata": {},
   "source": [
    "## Single layer perceptron"
   ]
  },
  {
   "cell_type": "code",
   "execution_count": 2,
   "metadata": {
    "collapsed": false
   },
   "outputs": [],
   "source": [
    "class SLP:\n",
    "    \n",
    "    def __init__(self, h_units):\n",
    "        self.h_units = h_units\n",
    "        \n",
    "    def sigm(self, x):\n",
    "        return 1/(1+np.exp(-x))\n",
    "\n",
    "\n",
    "    def encode(self, b1, W1, b2, W2): \n",
    "        return np.array([b1]+list(W1.flatten())+[b2]+list(W2.flatten()))\n",
    "\n",
    "    def params_decoded(self):\n",
    "        t1 = self.cols*self.h_units\n",
    "        b1 = self.params[0]\n",
    "        W1 = self.params[1:1+t1].reshape(self.cols, self.h_units)\n",
    "        b2 = self.params[t1+1]\n",
    "        W2 = self.params[t1+2:].reshape(self.h_units, 1)\n",
    "        return b1,W1,b2,W2\n",
    "\n",
    "    def random_params(self):\n",
    "        W1 = np.random.random(size=(self.cols,self.h_units))\n",
    "        b1 = np.random.random()\n",
    "\n",
    "        W2 = np.random.random(size=(self.h_units,1))\n",
    "        b2 = np.random.random()\n",
    "        return self.encode(b1,W1,b2,W2)\n",
    "\n",
    "    def prob(self, X):\n",
    "        b1,W1,b2,W2 = self.params_decoded()\n",
    "        return self.sigm(b2+np.tanh(b1+X.dot(W1)).dot(W2))\n",
    "\n",
    "    def fit(self, X,y, verbose=False):\n",
    "        self.cols = X.shape[1]\n",
    "\n",
    "        y = y.reshape(-1,1) if len(y.shape)==1 else y\n",
    "        def cost(params):\n",
    "            self.params = params\n",
    "            return np.sum ( (self.prob(X) - y)**2 )\n",
    "\n",
    "        r = minimize(cost, self.random_params(), method=\"BFGS\")        \n",
    "        self.params = r.x\n",
    "        self.minizer_result = r\n",
    "        if verbose:\n",
    "            for k in [\"fun\", \"message\", \"nfev\", \"nit\", \"njev\", \"status\", \"success\", \"x\"]:\n",
    "                print \"%10s:\"%k, r[k]\n",
    "        \n",
    "    def predict(self, X):\n",
    "        return (self.prob(X)>.5)*1\n",
    "\n",
    "    def score(self, X,y):\n",
    "        y = y.reshape(-1,1) if len(y.shape)==1 else y        \n",
    "        return np.sum(self.predict(X)==y)*1./len(X)\n"
   ]
  },
  {
   "cell_type": "markdown",
   "metadata": {},
   "source": [
    "now we fit parameters for sample synthetic dataset. observe that sometimes the minimizer cannot tell whether it has converged. having derivatives would probably help."
   ]
  },
  {
   "cell_type": "code",
   "execution_count": 3,
   "metadata": {
    "collapsed": false
   },
   "outputs": [
    {
     "name": "stdout",
     "output_type": "stream",
     "text": [
      "       fun: 2.00001820693\n",
      "   message: Desired error not necessarily achieved due to precision loss.\n",
      "      nfev: 3545\n",
      "       nit: 92\n",
      "      njev: 186\n",
      "    status: 2\n",
      "   success: False\n",
      "         x: [-229.59845125  203.87994656 -253.03276762 -484.09027708  622.2288604\n",
      "  238.51121735 -308.34355217   -2.18429926  372.15348786   73.04354492\n",
      "  224.79743283  235.50057141  569.43381183   48.83570362 -326.76134548\n",
      " -264.47676135 -320.48442341]\n"
     ]
    },
    {
     "name": "stderr",
     "output_type": "stream",
     "text": [
      "/opt/anaconda/lib/python2.7/site-packages/ipykernel/__main__.py:7: RuntimeWarning: overflow encountered in exp\n"
     ]
    }
   ],
   "source": [
    "X,y = make_moons(200, noise=.2)\n",
    "slp = SLP(h_units=5)\n",
    "slp.fit(X,y, verbose=True)"
   ]
  },
  {
   "cell_type": "code",
   "execution_count": 4,
   "metadata": {
    "collapsed": false
   },
   "outputs": [
    {
     "name": "stderr",
     "output_type": "stream",
     "text": [
      "/opt/anaconda/lib/python2.7/site-packages/ipykernel/__main__.py:7: RuntimeWarning: overflow encountered in exp\n"
     ]
    },
    {
     "data": {
      "image/png": "[encoded data removed]",
      "text/plain": [
       "<matplotlib.figure.Figure at 0x10c13c510>"
      ]
     },
     "metadata": {},
     "output_type": "display_data"
    }
   ],
   "source": [
    "plt.figure(figsize=(13,4))\n",
    "plt.subplot(121)\n",
    "plt.title(\"TRAIN prediction accuracy %.2f\"%slp.score(X,y))\n",
    "plot_2Ddata_with_boundary(slp.predict, X,y)\n",
    "plt.subplot(122)\n",
    "Xtest,ytest = make_moons(200, noise=.2)\n",
    "plt.title(\"TEST prediction accuracy %.2f\"%slp.score(Xtest,ytest))\n",
    "plot_2Ddata_with_boundary(slp.predict, Xtest,ytest)\n",
    "          "
   ]
  },
  {
   "cell_type": "code",
   "execution_count": 5,
   "metadata": {
    "collapsed": false
   },
   "outputs": [
    {
     "name": "stdout",
     "output_type": "stream",
     "text": [
      "Optimization terminated successfully.\n"
     ]
    },
    {
     "data": {
      "image/png": "[encoded data removed]",
      "text/plain": [
       "<matplotlib.figure.Figure at 0x10c35de10>"
      ]
     },
     "metadata": {},
     "output_type": "display_data"
    }
   ],
   "source": [
    "noise = .1\n",
    "X,y = make_circles(100, noise=noise)\n",
    "slp = SLP(h_units=10)\n",
    "slp.fit(X,y)\n",
    "print slp.minizer_result[\"message\"]\n",
    "plt.figure(figsize=(13,4))\n",
    "plt.subplot(121)\n",
    "plt.title(\"prediction accuracy %.2f\"%slp.score(X,y))\n",
    "plot_2Ddata_with_boundary(slp.predict, X,y)\n",
    "plt.subplot(122)\n",
    "Xtest,ytest = make_circles(100, noise=noise)\n",
    "plt.title(\"prediction accuracy %.2f\"%slp.score(Xtest,ytest))\n",
    "plot_2Ddata_with_boundary(slp.predict, Xtest,ytest)\n"
   ]
  },
  {
   "cell_type": "code",
   "execution_count": 6,
   "metadata": {
    "collapsed": false
   },
   "outputs": [
    {
     "data": {
      "text/plain": [
       "array([  -8.86627085,    6.61317137,    3.52388136,    4.77385143,\n",
       "          7.17946403,    4.87183395,   10.7232576 ,    9.85746847,\n",
       "          4.41397256,   -7.72941805,   -9.66170017,    3.54176144,\n",
       "         10.85362585,    1.03848893,    4.08408153,    2.93254101,\n",
       "          0.66422463,   27.25204507,   -9.94516945,   -8.23787311,\n",
       "          6.21672665,  -71.27398734,   40.6867351 , -125.06579696,\n",
       "        212.15330047,   22.88417241,  204.68156102, -176.39003468,\n",
       "          4.53482917, -229.59381107, -127.79005926, -123.65154538])"
      ]
     },
     "execution_count": 6,
     "metadata": {},
     "output_type": "execute_result"
    }
   ],
   "source": [
    "slp.params"
   ]
  },
  {
   "cell_type": "markdown",
   "metadata": {},
   "source": [
    "### Now, theano version"
   ]
  },
  {
   "cell_type": "code",
   "execution_count": 7,
   "metadata": {
    "collapsed": false
   },
   "outputs": [],
   "source": [
    "import theano\n",
    "import numpy as np\n",
    "from sklearn.datasets import make_moons\n",
    "from theano import tensor as T"
   ]
  },
  {
   "cell_type": "code",
   "execution_count": 8,
   "metadata": {
    "collapsed": false
   },
   "outputs": [],
   "source": [
    "#X,y = make_moons(200, noise=.2)\n",
    "X = X.astype(dtype=theano.config.floatX)\n",
    "y = y.reshape(-1,1).astype(dtype=theano.config.floatX)"
   ]
  },
  {
   "cell_type": "code",
   "execution_count": 9,
   "metadata": {
    "collapsed": true
   },
   "outputs": [],
   "source": [
    "tX = T.matrix('X')\n",
    "ty = T.matrix('y')"
   ]
  },
  {
   "cell_type": "code",
   "execution_count": 10,
   "metadata": {
    "collapsed": false
   },
   "outputs": [],
   "source": [
    "h_units = 10\n",
    "cols = 2\n",
    "m    = len(X)\n",
    "rng = np.random.RandomState(np.random.randint(10000))\n",
    "W1_vals = np.random.random(size=(cols,h_units)).astype(dtype=theano.config.floatX)\n",
    "\n",
    "W1_vals = np.asarray(\n",
    "    rng.uniform(\n",
    "        low=-np.sqrt(6. / (cols + h_units)),\n",
    "        high=np.sqrt(6. / (cols + h_units)),\n",
    "        size=(cols, h_units)\n",
    "    ),\n",
    "    dtype=theano.config.floatX\n",
    ")\n",
    "\n",
    "b1_val  = 0.\n",
    "W2_vals = np.random.random(size=(h_units,1)).astype(dtype=theano.config.floatX)\n",
    "\n",
    "W2_vals = np.asarray(\n",
    "    rng.uniform(\n",
    "        low=-np.sqrt(6. / (1 + h_units)),\n",
    "        high=np.sqrt(6. / (1 + h_units)),\n",
    "        size=(h_units, 1)\n",
    "    ),\n",
    "    dtype=theano.config.floatX\n",
    ")*4\n",
    "\n",
    "\n",
    "b2_val  = 0.\n",
    "tW1 = theano.shared(value=W1_vals, name=\"W1\", borrow=True)\n",
    "tb1 = theano.shared(value=b1_val,  name=\"b1\", borrow=True)\n",
    "tW2 = theano.shared(value=W2_vals, name=\"W2\", borrow=True)\n",
    "tb2 = theano.shared(value=b2_val,  name=\"b2\", borrow=True)"
   ]
  },
  {
   "cell_type": "code",
   "execution_count": 11,
   "metadata": {
    "collapsed": false
   },
   "outputs": [],
   "source": [
    "\n",
    "learning_rate = .1\n",
    "\n",
    "#ex = tb2+T.dot(T.tanh(T.dot(tX, tW1)+tb1), tW2)\n",
    "#cost = (1./(1.+T.exp(-(ex-ty)**2))).sum()\n",
    "\n",
    "ex = tb2+T.dot(T.tanh(T.dot(tX, tW1)+tb1), tW2)\n",
    "cost = ((1./(1.+T.exp(-ex)) - ty )**2).mean()\n",
    "\n",
    "g_W1 = T.grad(cost=cost, wrt=tW1)\n",
    "g_b1 = T.grad(cost=cost, wrt=tb1)\n",
    "g_W2 = T.grad(cost=cost, wrt=tW2)\n",
    "g_b2 = T.grad(cost=cost, wrt=tb2)\n",
    "updates = [ (tW1, tW1-learning_rate*g_W1),\n",
    "            (tb1, tb1-learning_rate*g_b1),\n",
    "            (tW2, tW2-learning_rate*g_W2),\n",
    "            (tb2, tb2-learning_rate*g_b2)]"
   ]
  },
  {
   "cell_type": "code",
   "execution_count": 12,
   "metadata": {
    "collapsed": false
   },
   "outputs": [
    {
     "data": {
      "text/plain": [
       "((100, 1), (100, 2))"
      ]
     },
     "execution_count": 12,
     "metadata": {},
     "output_type": "execute_result"
    }
   ],
   "source": [
    "y.shape, X.shape"
   ]
  },
  {
   "cell_type": "markdown",
   "metadata": {},
   "source": [
    "get compiled evaluable function from symbolic gradient"
   ]
  },
  {
   "cell_type": "code",
   "execution_count": 13,
   "metadata": {
    "collapsed": false
   },
   "outputs": [],
   "source": [
    "fg_W1 = theano.function(inputs=[], outputs=g_W1, givens={tX: X,ty: y})"
   ]
  },
  {
   "cell_type": "code",
   "execution_count": 14,
   "metadata": {
    "collapsed": false
   },
   "outputs": [
    {
     "data": {
      "text/plain": [
       "array([[ 0.06802965, -0.02165964,  0.00974158,  0.07188046,  0.09545479,\n",
       "         0.0107008 ,  0.05476589, -0.06237306,  0.08124114,  0.03627611],\n",
       "       [ 0.06456633, -0.01358328,  0.00820652,  0.05782608,  0.05917165,\n",
       "         0.00682494,  0.04816492, -0.04128256,  0.06122948,  0.02769351]])"
      ]
     },
     "execution_count": 14,
     "metadata": {},
     "output_type": "execute_result"
    }
   ],
   "source": [
    "fg_W1()"
   ]
  },
  {
   "cell_type": "code",
   "execution_count": 15,
   "metadata": {
    "collapsed": false
   },
   "outputs": [],
   "source": [
    "train_model = theano.function(\n",
    "    inputs=[],\n",
    "    outputs=cost,\n",
    "    updates=updates,\n",
    "    givens={tX: X,ty: y}\n",
    ")"
   ]
  },
  {
   "cell_type": "code",
   "execution_count": 16,
   "metadata": {
    "collapsed": false
   },
   "outputs": [
    {
     "data": {
      "text/plain": [
       "array(0.29820446848331494)"
      ]
     },
     "execution_count": 16,
     "metadata": {},
     "output_type": "execute_result"
    }
   ],
   "source": [
    "train_model()"
   ]
  },
  {
   "cell_type": "code",
   "execution_count": 17,
   "metadata": {
    "collapsed": false
   },
   "outputs": [
    {
     "data": {
      "text/plain": [
       "array(0.12168485038969776)"
      ]
     },
     "execution_count": 17,
     "metadata": {},
     "output_type": "execute_result"
    }
   ],
   "source": [
    "for i in range(10000):\n",
    "     train_model()\n",
    "\n",
    "train_model()"
   ]
  },
  {
   "cell_type": "code",
   "execution_count": 18,
   "metadata": {
    "collapsed": false
   },
   "outputs": [
    {
     "name": "stdout",
     "output_type": "stream",
     "text": [
      "check 0.121682883803\n",
      "aaccuracy 0.85\n"
     ]
    },
    {
     "data": {
      "image/png": "[encoded data removed]",
      "text/plain": [
       "<matplotlib.figure.Figure at 0x1115fb8d0>"
      ]
     },
     "metadata": {},
     "output_type": "display_data"
    }
   ],
   "source": [
    "#self.sigm(b2+np.tanh(b1+X.dot(W1)).dot(W2))\n",
    "#np.sum(b2_val+np.dot(np.tanh(np.dot(X, W1_vals)+b2_val),W2_vals))\n",
    "b1 = tb1.get_value()\n",
    "b2 = tb2.get_value()\n",
    "W1 = tW1.get_value()\n",
    "W2 = tW2.get_value()\n",
    "print \"check\", np.mean(((1./(1+np.exp(-(b2+np.dot(np.tanh(np.dot(X,W1)+b1), W2)))))-y)**2)\n",
    "\n",
    "slp = SLP(h_units=h_units)\n",
    "slp.cols = X.shape[1]\n",
    "slp.params = slp.encode(tb1.get_value(), tW1.get_value().astype(float), \n",
    "                        tb2.get_value(), tW2.get_value().astype(float))\n",
    "print \"aaccuracy\", slp.score(X,y)\n",
    "plot_2Ddata_with_boundary(slp.predict, X,y.flatten())"
   ]
  },
  {
   "cell_type": "code",
   "execution_count": 19,
   "metadata": {
    "collapsed": true
   },
   "outputs": [],
   "source": [
    "slp = SLP(h_units=h_units)\n",
    "slp.cols = X.shape[1]"
   ]
  },
  {
   "cell_type": "code",
   "execution_count": 21,
   "metadata": {
    "collapsed": false
   },
   "outputs": [
    {
     "name": "stdout",
     "output_type": "stream",
     "text": [
      "0.85\n"
     ]
    },
    {
     "data": {
      "image/png": "[encoded data removed]",
      "text/plain": [
       "<matplotlib.figure.Figure at 0x113ab24d0>"
      ]
     },
     "metadata": {},
     "output_type": "display_data"
    }
   ],
   "source": [
    "slp = SLP(h_units=h_units)\n",
    "slp.cols = X.shape[1]\n",
    "slp.params = slp.encode(tb1.get_value(), tW1.get_value().astype(float), \n",
    "                        tb2.get_value(), tW2.get_value().astype(float))\n",
    "print slp.score(X,y)\n",
    "plot_2Ddata_with_boundary(slp.predict, X,y.flatten())"
   ]
  },
  {
   "cell_type": "code",
   "execution_count": 23,
   "metadata": {
    "collapsed": false
   },
   "outputs": [
    {
     "name": "stdout",
     "output_type": "stream",
     "text": [
      "Optimization terminated successfully.\n",
      "0.94\n"
     ]
    },
    {
     "data": {
      "image/png": "[encoded data removed]",
      "text/plain": [
       "<matplotlib.figure.Figure at 0x115e0e510>"
      ]
     },
     "metadata": {},
     "output_type": "display_data"
    }
   ],
   "source": [
    "slp = SLP(h_units=h_units)\n",
    "slp.fit(X,y)\n",
    "print slp.minizer_result[\"message\"]\n",
    "print slp.score(X,y)\n",
    "plot_2Ddata_with_boundary(slp.predict, X,y.flatten())"
   ]
  },
  {
   "cell_type": "code",
   "execution_count": 24,
   "metadata": {
    "collapsed": false
   },
   "outputs": [
    {
     "data": {
      "text/plain": [
       "((), (2, 10), (), (10, 1))"
      ]
     },
     "execution_count": 24,
     "metadata": {},
     "output_type": "execute_result"
    }
   ],
   "source": [
    "b1.shape, W1.shape, b2.shape, W2.shape"
   ]
  },
  {
   "cell_type": "code",
   "execution_count": 25,
   "metadata": {
    "collapsed": false
   },
   "outputs": [
    {
     "data": {
      "text/plain": [
       "71.109947868374675"
      ]
     },
     "execution_count": 25,
     "metadata": {},
     "output_type": "execute_result"
    }
   ],
   "source": [
    "np.sum(slp.sigm((b1+np.tanh( (b1+X.dot(W1)).astype(float)).dot(W2)).astype(float)))"
   ]
  },
  {
   "cell_type": "code",
   "execution_count": null,
   "metadata": {
    "collapsed": true
   },
   "outputs": [],
   "source": []
  }
 ],
 "metadata": {
  "kernelspec": {
   "display_name": "Python 2",
   "language": "python",
   "name": "python2"
  },
  "language_info": {
   "codemirror_mode": {
    "name": "ipython",
    "version": 2
   },
   "file_extension": ".py",
   "mimetype": "text/x-python",
   "name": "python",
   "nbconvert_exporter": "python",
   "pygments_lexer": "ipython2",
   "version": "2.7.12"
  },
  "toc": {
   "toc_cell": false,
   "toc_number_sections": true,
   "toc_threshold": 6,
   "toc_window_display": false
  },
  "widgets": {
   "state": {},
   "version": "1.1.2"
  }
 },
 "nbformat": 4,
 "nbformat_minor": 0
}
