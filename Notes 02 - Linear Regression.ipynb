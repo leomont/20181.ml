{
 "cells": [
  {
   "cell_type": "code",
   "execution_count": 4,
   "metadata": {
    "collapsed": true
   },
   "outputs": [],
   "source": [
    "import numpy as np\n",
    "import matplotlib.pyplot as plt\n",
    "import pandas as pd\n",
    "from scipy.optimize import minimize\n",
    "%matplotlib inline"
   ]
  },
  {
   "cell_type": "code",
   "execution_count": 5,
   "metadata": {
    "collapsed": false
   },
   "outputs": [
    {
     "data": {
      "text/html": [
       "<div>\n",
       "<table border=\"1\" class=\"dataframe\">\n",
       "  <thead>\n",
       "    <tr style=\"text-align: right;\">\n",
       "      <th></th>\n",
       "      <th>area</th>\n",
       "      <th>value</th>\n",
       "    </tr>\n",
       "  </thead>\n",
       "  <tbody>\n",
       "    <tr>\n",
       "      <th>0</th>\n",
       "      <td>57.02</td>\n",
       "      <td>202970</td>\n",
       "    </tr>\n",
       "    <tr>\n",
       "      <th>1</th>\n",
       "      <td>96.07</td>\n",
       "      <td>312626</td>\n",
       "    </tr>\n",
       "    <tr>\n",
       "      <th>2</th>\n",
       "      <td>93.18</td>\n",
       "      <td>264921</td>\n",
       "    </tr>\n",
       "    <tr>\n",
       "      <th>3</th>\n",
       "      <td>91.05</td>\n",
       "      <td>272091</td>\n",
       "    </tr>\n",
       "    <tr>\n",
       "      <th>4</th>\n",
       "      <td>69.76</td>\n",
       "      <td>209846</td>\n",
       "    </tr>\n",
       "  </tbody>\n",
       "</table>\n",
       "</div>"
      ],
      "text/plain": [
       "    area   value\n",
       "0  57.02  202970\n",
       "1  96.07  312626\n",
       "2  93.18  264921\n",
       "3  91.05  272091\n",
       "4  69.76  209846"
      ]
     },
     "execution_count": 5,
     "metadata": {},
     "output_type": "execute_result"
    }
   ],
   "source": [
    "d = pd.read_csv(\"data/houses.csv\")\n",
    "d.head()"
   ]
  },
  {
   "cell_type": "code",
   "execution_count": 6,
   "metadata": {
    "collapsed": false
   },
   "outputs": [
    {
     "data": {
      "text/plain": [
       "<matplotlib.text.Text at 0x10ea5b790>"
      ]
     },
     "execution_count": 6,
     "metadata": {},
     "output_type": "execute_result"
    },
    {
     "data": {
      "image/png": "[encoded data removed]",
      "text/plain": [
       "<matplotlib.figure.Figure at 0x10e79c410>"
      ]
     },
     "metadata": {},
     "output_type": "display_data"
    }
   ],
   "source": [
    "plt.scatter(d.area, d.value)\n",
    "plt.xlabel(\"house area in $m^2$\")\n",
    "plt.ylabel(\"house value in USD\")"
   ]
  },
  {
   "cell_type": "markdown",
   "metadata": {},
   "source": [
    "**ASUMIMOS** que la relación entre el área ($y$) y el valor ($x_1$) es lineal, para la casa $i$:\n",
    "\n",
    "$$y^{(i)} = \\theta_0 + \\theta_1 x_1^{(i)}$$\n",
    "\n",
    "si establecemos que $x_0^{(i)}=1$ para todas las casas, entonces podemos escribir la expresión anterior de forma vectorial, con $\\theta = [\\theta_0, \\theta_1]$ y $\\mathbf{x}=[x_0, x_1]$\n",
    "\n",
    "$$y^{(i)} = \\theta\\mathbf{x}^{(i)}$$\n",
    "\n",
    "queremos encontrar los valores $\\theta_{min}$ que parametrizan una recta de modo que\n",
    "\n",
    "$$ J(\\theta) =  \\sum_{i=0}^{m-1} (\\mathbf{x}\\theta^{(i)}-y^{(i)})^2$$\n",
    "\n",
    "$$\\theta_{min} = \\underset{\\theta}{arg\\,min} \\,\\,\\,J(\\theta)$$ \n",
    "\n",
    "en modo matricial\n",
    "\n",
    "$$J(\\theta) = sum(\\mathbf{X}\\theta-\\mathbf{y})^2$$\n",
    "\n",
    "P.ej., los parámetros $\\theta_0=0$, $\\theta_1=3800$ definen una recta que es mejorable respecto a los datos que tenemos. Observa como creamos las matrices $X$ e $y$, añadiendo una columna de unos a la matrix $X$"
   ]
  },
  {
   "cell_type": "code",
   "execution_count": 7,
   "metadata": {
    "collapsed": false
   },
   "outputs": [
    {
     "name": "stdout",
     "output_type": "stream",
     "text": [
      "(100, 2) (100,)\n"
     ]
    },
    {
     "data": {
      "text/plain": [
       "[<matplotlib.lines.Line2D at 0x10ed7ebd0>]"
      ]
     },
     "execution_count": 7,
     "metadata": {},
     "output_type": "execute_result"
    },
    {
     "data": {
      "image/png": "[encoded data removed]",
      "text/plain": [
       "<matplotlib.figure.Figure at 0x10a52c990>"
      ]
     },
     "metadata": {},
     "output_type": "display_data"
    }
   ],
   "source": [
    "X = np.hstack((np.ones((len(d),1)), d[[\"area\"]].as_matrix()))\n",
    "y = d.value.as_matrix()\n",
    "print X.shape, y.shape\n",
    "\n",
    "t = np.array([0,3800])\n",
    "\n",
    "xg = np.vstack((np.ones(100), np.linspace(np.min(d.area), np.max(d.area),100))).T\n",
    "plt.scatter(d.area, d.value)\n",
    "plt.plot(xg[:,1], xg.dot(t))"
   ]
  },
  {
   "cell_type": "markdown",
   "metadata": {},
   "source": [
    "Una primera aproximación para obtener la recta con los parámetros $\\theta_{min}$ según definido anteriormente es usando optimización _caja negra_. "
   ]
  },
  {
   "cell_type": "code",
   "execution_count": 8,
   "metadata": {
    "collapsed": false
   },
   "outputs": [],
   "source": [
    "def cost(t):\n",
    "    return np.sum((X.dot(t)-y)**2)"
   ]
  },
  {
   "cell_type": "code",
   "execution_count": 9,
   "metadata": {
    "collapsed": false
   },
   "outputs": [
    {
     "name": "stdout",
     "output_type": "stream",
     "text": [
      "      fun: 87173814841.43971\n",
      " hess_inv: array([[  6.22486109e-02,  -5.63373937e-04],\n",
      "       [ -5.63373937e-04,   5.54403305e-06]])\n",
      "      jac: array([    0., -4096.])\n",
      "  message: 'Desired error not necessarily achieved due to precision loss.'\n",
      "     nfev: 135\n",
      "      nit: 4\n",
      "     njev: 31\n",
      "   status: 2\n",
      "  success: False\n",
      "        x: array([ 24848.96670977,   2936.34079734])\n"
     ]
    }
   ],
   "source": [
    "r = minimize(cost, [0,0], method=\"BFGS\")\n",
    "print r"
   ]
  },
  {
   "cell_type": "code",
   "execution_count": 10,
   "metadata": {
    "collapsed": false
   },
   "outputs": [
    {
     "data": {
      "text/plain": [
       "[<matplotlib.lines.Line2D at 0x10ed8e110>]"
      ]
     },
     "execution_count": 10,
     "metadata": {},
     "output_type": "execute_result"
    },
    {
     "data": {
      "image/png": "[encoded data removed]",
      "text/plain": [
       "<matplotlib.figure.Figure at 0x10ed8e710>"
      ]
     },
     "metadata": {},
     "output_type": "display_data"
    }
   ],
   "source": [
    "t = r.x\n",
    "xg = np.vstack((np.ones(100), np.linspace(np.min(d.area), np.max(d.area),100))).T\n",
    "plt.scatter(d.area, d.value)\n",
    "plt.plot(xg[:,1], xg.dot(t))"
   ]
  },
  {
   "cell_type": "markdown",
   "metadata": {},
   "source": [
    "El error de predicción medio que tenemos es de:"
   ]
  },
  {
   "cell_type": "code",
   "execution_count": 11,
   "metadata": {
    "collapsed": false
   },
   "outputs": [
    {
     "data": {
      "image/png": "[encoded data removed]",
      "text/latex": [
       "$$22825.4393205$$"
      ],
      "text/plain": [
       "22825.4393205"
      ]
     },
     "execution_count": 11,
     "metadata": {},
     "output_type": "execute_result"
    }
   ],
   "source": [
    "np.mean(np.abs(X.dot(t)-y))"
   ]
  },
  {
   "cell_type": "markdown",
   "metadata": {},
   "source": [
    "El gradiente de $J$ es\n",
    "\n",
    "$$\\nabla J= 2X^{T}\\cdot(X\\cdot\\theta-Y)$$\n",
    "\n",
    "que podemos usar en los procesos de minimización"
   ]
  },
  {
   "cell_type": "code",
   "execution_count": 12,
   "metadata": {
    "collapsed": true
   },
   "outputs": [],
   "source": [
    "def grad(t):\n",
    "    return 2*X.T.dot(X.dot(t)-y)"
   ]
  },
  {
   "cell_type": "code",
   "execution_count": 13,
   "metadata": {
    "collapsed": false
   },
   "outputs": [
    {
     "name": "stdout",
     "output_type": "stream",
     "text": [
      "      fun: 87173791346.97466\n",
      " hess_inv: array([[  6.23113465e-02,  -5.64148580e-04],\n",
      "       [ -5.64148580e-04,   5.55323927e-06]])\n",
      "      jac: array([  6.40284270e-10,  -1.00815415e-08])\n",
      "  message: 'Optimization terminated successfully.'\n",
      "     nfev: 6\n",
      "      nit: 3\n",
      "     njev: 6\n",
      "   status: 0\n",
      "  success: True\n",
      "        x: array([ 24794.85968752,   2936.83230103])\n"
     ]
    }
   ],
   "source": [
    "r = minimize(cost, [0,0], jac=grad, method=\"BFGS\")\n",
    "print r"
   ]
  },
  {
   "cell_type": "markdown",
   "metadata": {
    "collapsed": true
   },
   "source": [
    "también podemos obtener el gradiente usando sympy"
   ]
  },
  {
   "cell_type": "code",
   "execution_count": 14,
   "metadata": {
    "collapsed": true
   },
   "outputs": [],
   "source": [
    "import sympy\n",
    "sympy.init_printing(use_latex=True)"
   ]
  },
  {
   "cell_type": "code",
   "execution_count": 76,
   "metadata": {
    "collapsed": false
   },
   "outputs": [
    {
     "data": {
      "image/png": "[encoded data removed]",
      "text/latex": [
       "$$\\left ( \\theta_{0}, \\quad \\theta_{1}\\right )$$"
      ],
      "text/plain": [
       "(θ₀, θ₁)"
      ]
     },
     "execution_count": 76,
     "metadata": {},
     "output_type": "execute_result"
    }
   ],
   "source": [
    "t0,t1 = sympy.symbols(\"theta_0 theta_1\")\n",
    "t0,t1"
   ]
  },
  {
   "cell_type": "markdown",
   "metadata": {},
   "source": [
    "fíjate en la expresión que obtenemos con un número reducido de datos y cómo la simplifica sympy"
   ]
  },
  {
   "cell_type": "code",
   "execution_count": 77,
   "metadata": {
    "collapsed": false
   },
   "outputs": [
    {
     "data": {
      "image/png": "[encoded data removed]",
      "text/latex": [
       "$$\\frac{1}{100} \\left(1.0 \\theta_{0} + 57.02 \\theta_{1} - 202970\\right)^{2} + \\frac{1}{100} \\left(1.0 \\theta_{0} + 57.62 \\theta_{1} - 161472\\right)^{2} + \\frac{1}{100} \\left(1.0 \\theta_{0} + 69.76 \\theta_{1} - 209846\\right)^{2} + \\frac{1}{100} \\left(1.0 \\theta_{0} + 81.67 \\theta_{1} - 241927\\right)^{2} + \\frac{1}{100} \\left(1.0 \\theta_{0} + 91.05 \\theta_{1} - 272091\\right)^{2} + \\frac{1}{100} \\left(1.0 \\theta_{0} + 93.18 \\theta_{1} - 264921\\right)^{2} + \\frac{1}{100} \\left(1.0 \\theta_{0} + 96.07 \\theta_{1} - 312626\\right)^{2} + \\frac{1}{100} \\left(1.0 \\theta_{0} + 99.59 \\theta_{1} - 317444\\right)^{2} + \\frac{1}{100} \\left(1.0 \\theta_{0} + 111.62 \\theta_{1} - 350402\\right)^{2} + \\frac{1}{100} \\left(1.0 \\theta_{0} + 149.57 \\theta_{1} - 478948\\right)^{2}$$"
      ],
      "text/plain": [
       "                            2                               2                 \n",
       "(1.0⋅θ₀ + 57.02⋅θ₁ - 202970)    (1.0⋅θ₀ + 57.62⋅θ₁ - 161472)    (1.0⋅θ₀ + 69.7\n",
       "───────────────────────────── + ───────────────────────────── + ──────────────\n",
       "             100                             100                             1\n",
       "\n",
       "              2                               2                               \n",
       "6⋅θ₁ - 209846)    (1.0⋅θ₀ + 81.67⋅θ₁ - 241927)    (1.0⋅θ₀ + 91.05⋅θ₁ - 272091)\n",
       "─────────────── + ───────────────────────────── + ────────────────────────────\n",
       "00                             100                             100            \n",
       "\n",
       "2                               2                               2             \n",
       "    (1.0⋅θ₀ + 93.18⋅θ₁ - 264921)    (1.0⋅θ₀ + 96.07⋅θ₁ - 312626)    (1.0⋅θ₀ + \n",
       "─ + ───────────────────────────── + ───────────────────────────── + ──────────\n",
       "                 100                             100                          \n",
       "\n",
       "                  2                                2                          \n",
       "99.59⋅θ₁ - 317444)    (1.0⋅θ₀ + 111.62⋅θ₁ - 350402)    (1.0⋅θ₀ + 149.57⋅θ₁ - 4\n",
       "─────────────────── + ────────────────────────────── + ───────────────────────\n",
       "   100                             100                              100       \n",
       "\n",
       "      2\n",
       "78948) \n",
       "───────\n",
       "       "
      ]
     },
     "execution_count": 77,
     "metadata": {},
     "output_type": "execute_result"
    }
   ],
   "source": [
    "expr = 0\n",
    "for i in range(10):\n",
    "    expr += (X[i,0]*t0+X[i,1]*t1-y[i])**2\n",
    "expr = expr/len(X)\n",
    "expr"
   ]
  },
  {
   "cell_type": "code",
   "execution_count": 78,
   "metadata": {
    "collapsed": false
   },
   "outputs": [
    {
     "name": "stdout",
     "output_type": "stream",
     "text": [
      "[202970 312626 264921 272091 209846 317444 161472 478948 241927 350402]\n"
     ]
    },
    {
     "data": {
      "text/plain": [
       "array([[   1.  ,   57.02],\n",
       "       [   1.  ,   96.07],\n",
       "       [   1.  ,   93.18],\n",
       "       [   1.  ,   91.05],\n",
       "       [   1.  ,   69.76],\n",
       "       [   1.  ,   99.59],\n",
       "       [   1.  ,   57.62],\n",
       "       [   1.  ,  149.57],\n",
       "       [   1.  ,   81.67],\n",
       "       [   1.  ,  111.62]])"
      ]
     },
     "execution_count": 78,
     "metadata": {},
     "output_type": "execute_result"
    }
   ],
   "source": [
    "print y[:10]\n",
    "X[:10]"
   ]
  },
  {
   "cell_type": "code",
   "execution_count": 79,
   "metadata": {
    "collapsed": false
   },
   "outputs": [
    {
     "data": {
      "image/png": "[encoded data removed]",
      "text/latex": [
       "$$0.1 \\theta_{0}^{2} + 18.143 \\theta_{0} \\theta_{1} - 56252.94 \\theta_{0} + 890.582285 \\theta_{1}^{2} - 5542599.536 \\theta_{1} + 8647291505.71$$"
      ],
      "text/plain": [
       "      2                                             2                         \n",
       "0.1⋅θ₀  + 18.143⋅θ₀⋅θ₁ - 56252.94⋅θ₀ + 890.582285⋅θ₁  - 5542599.536⋅θ₁ + 86472\n",
       "\n",
       "        \n",
       "91505.71"
      ]
     },
     "execution_count": 79,
     "metadata": {},
     "output_type": "execute_result"
    }
   ],
   "source": [
    "expr = expr.simplify()\n",
    "expr"
   ]
  },
  {
   "cell_type": "markdown",
   "metadata": {},
   "source": [
    "obtenemos la expresion del coste para todos los datos y las derivadas parciales para el gradiente"
   ]
  },
  {
   "cell_type": "code",
   "execution_count": 46,
   "metadata": {
    "collapsed": false
   },
   "outputs": [
    {
     "data": {
      "image/png": "[encoded data removed]",
      "text/latex": [
       "$$100.0 \\theta_{1}^{2} + 20317.82 \\theta_{1} \\theta_{2} - 64629002.0 \\theta_{1} + 1122072.0633 \\theta_{2}^{2} - 7094452455.22 \\theta_{2} + 11306015873817.0$$"
      ],
      "text/plain": [
       "        2                                                   2                 \n",
       "100.0⋅θ₁  + 20317.82⋅θ₁⋅θ₂ - 64629002.0⋅θ₁ + 1122072.0633⋅θ₂  - 7094452455.22⋅\n",
       "\n",
       "                     \n",
       "θ₂ + 11306015873817.0"
      ]
     },
     "execution_count": 46,
     "metadata": {},
     "output_type": "execute_result"
    }
   ],
   "source": [
    "expr_cost = 0\n",
    "for i in range(len(X)):\n",
    "    expr_cost += (X[i,0]*t0+X[i,1]*t1-y[i])**2\n",
    "expr_cost = expr_cost.simplify()\n",
    "expr_cost"
   ]
  },
  {
   "cell_type": "code",
   "execution_count": 47,
   "metadata": {
    "collapsed": false
   },
   "outputs": [
    {
     "data": {
      "image/png": "[encoded data removed]",
      "text/latex": [
       "$$\\left ( 200.0 \\theta_{1} + 20317.82 \\theta_{2} - 64629002.0, \\quad 20317.82 \\theta_{1} + 2244144.1266 \\theta_{2} - 7094452455.22\\right )$$"
      ],
      "text/plain": [
       "(200.0⋅θ₁ + 20317.82⋅θ₂ - 64629002.0, 20317.82⋅θ₁ + 2244144.1266⋅θ₂ - 70944524\n",
       "55.22)"
      ]
     },
     "execution_count": 47,
     "metadata": {},
     "output_type": "execute_result"
    }
   ],
   "source": [
    "expr_dt0 = expr_cost.diff(t0)\n",
    "expr_dt1 = expr_cost.diff(t1)\n",
    "expr_dt0, expr_dt1"
   ]
  },
  {
   "cell_type": "markdown",
   "metadata": {},
   "source": [
    "y la función de coste y el jacobiano evaluable en Python"
   ]
  },
  {
   "cell_type": "code",
   "execution_count": 48,
   "metadata": {
    "collapsed": true
   },
   "outputs": [],
   "source": [
    "s_cost = sympy.lambdify([[t0,t1]], expr_cost, \"numpy\")\n",
    "\n",
    "d0 = sympy.lambdify([[t0,t1]], expr_dt0, \"numpy\")\n",
    "d1 = sympy.lambdify([[t0,t1]], expr_dt1, \"numpy\")\n",
    "s_grad = lambda x: np.array([d0(x), d1(x)])"
   ]
  },
  {
   "cell_type": "markdown",
   "metadata": {},
   "source": [
    "y ahora los usamos en el minimizador"
   ]
  },
  {
   "cell_type": "code",
   "execution_count": 50,
   "metadata": {
    "collapsed": false
   },
   "outputs": [
    {
     "name": "stdout",
     "output_type": "stream",
     "text": [
      "      fun: 87173791346.97119\n",
      " hess_inv: array([[  6.23113465e-02,  -5.64150650e-04],\n",
      "       [ -5.64150650e-04,   5.55327713e-06]])\n",
      "      jac: array([ -2.23517418e-08,   0.00000000e+00])\n",
      "  message: 'Optimization terminated successfully.'\n",
      "     nfev: 38\n",
      "      nit: 4\n",
      "     njev: 37\n",
      "   status: 0\n",
      "  success: True\n",
      "        x: array([ 24794.85968752,   2936.83230103])\n"
     ]
    }
   ],
   "source": [
    "r = minimize(s_cost, [0,0], jac=s_grad, method=\"BFGS\")\n",
    "print r"
   ]
  },
  {
   "cell_type": "markdown",
   "metadata": {},
   "source": [
    "fíjate como las funciones son las mismas"
   ]
  },
  {
   "cell_type": "code",
   "execution_count": 73,
   "metadata": {
    "collapsed": false
   },
   "outputs": [
    {
     "name": "stdout",
     "output_type": "stream",
     "text": [
      "theta: [ 24359.01378228  20662.31165051]\n",
      "cost analytic: 3.52476985235e+14\n",
      "cost symbolic: 3.52476985235e+14\n",
      "gradient analytic: [  3.60055930e+08   3.97696749e+10]\n",
      "gradient symbolic: [  3.60055930e+08   3.97696749e+10]\n"
     ]
    }
   ],
   "source": [
    "t = np.array([np.random.random()*5000+20000, np.random.random()*1000+20000])\n",
    "print \"theta:\",t\n",
    "print \"cost analytic:\", cost(t)\n",
    "print \"cost symbolic:\", s_cost(t)\n",
    "\n",
    "print \"gradient analytic:\", grad(t)\n",
    "print \"gradient symbolic:\", s_grad(t)"
   ]
  },
  {
   "cell_type": "code",
   "execution_count": null,
   "metadata": {
    "collapsed": true
   },
   "outputs": [],
   "source": []
  }
 ],
 "metadata": {
  "kernelspec": {
   "display_name": "Python 2",
   "language": "python",
   "name": "python2"
  },
  "language_info": {
   "codemirror_mode": {
    "name": "ipython",
    "version": 2
   },
   "file_extension": ".py",
   "mimetype": "text/x-python",
   "name": "python",
   "nbconvert_exporter": "python",
   "pygments_lexer": "ipython2",
   "version": "2.7.11"
  },
  "toc": {
   "toc_cell": false,
   "toc_number_sections": true,
   "toc_threshold": 6,
   "toc_window_display": false
  },
  "widgets": {
   "state": {},
   "version": "1.1.2"
  }
 },
 "nbformat": 4,
 "nbformat_minor": 0
}
