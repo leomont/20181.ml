{
 "cells": [
  {
   "cell_type": "code",
   "execution_count": 1,
   "metadata": {
    "collapsed": true
   },
   "outputs": [],
   "source": [
    "import numpy as np\n",
    "import sympy as sym\n",
    "import matplotlib.pyplot as plt\n",
    "from scipy.optimize import minimize\n",
    "%matplotlib inline"
   ]
  },
  {
   "cell_type": "markdown",
   "metadata": {},
   "source": [
    "# 1. Gradiente descendiente\n",
    "\n",
    "creamos una función de **dos** variables:\n",
    "\n",
    "$$f(p_0, p_1) = (p_0-1/3)^2 + (p_1-2/3)^2$$\n",
    "\n",
    "pero que las codifico en un único argumento lista en su implementación (para que sea compatible con las rutinas que usamos más adelante)"
   ]
  },
  {
   "cell_type": "code",
   "execution_count": 2,
   "metadata": {
    "collapsed": false
   },
   "outputs": [],
   "source": [
    "def f(p):\n",
    "    return (p[0]-1./3)**2 + p[1]**2"
   ]
  },
  {
   "cell_type": "markdown",
   "metadata": {},
   "source": [
    "hago una malla de 40$\\times$40 para pintar los contornos de la función"
   ]
  },
  {
   "cell_type": "code",
   "execution_count": 3,
   "metadata": {
    "collapsed": false
   },
   "outputs": [
    {
     "name": "stdout",
     "output_type": "stream",
     "text": [
      "Mesh size (40, 40)\n"
     ]
    },
    {
     "data": {
      "image/png": "[encoded data removed]",
      "text/plain": [
       "<matplotlib.figure.Figure at 0x10ac3bf10>"
      ]
     },
     "metadata": {},
     "output_type": "display_data"
    }
   ],
   "source": [
    "def plot_contour(f, x_points, y_points,  x_range=np.arange(-2, 2, .1), y_range=np.arange(-2, 2, .1),):\n",
    "    X, Y = np.meshgrid(x_range, y_range)\n",
    "    print \"Mesh size\", X.shape\n",
    "    Z = f([X,Y])\n",
    "    CS = plt.contourf(X, Y, Z, 20, cmap=plt.cm.hot)\n",
    "    plt.scatter(x_points, y_points, c=\"white\")\n",
    "    return X, Y, Z\n",
    "    \n",
    "P0, P1, Z = plot_contour(f, [1./3], [0])"
   ]
  },
  {
   "cell_type": "markdown",
   "metadata": {},
   "source": [
    "una aproximación de fuerza bruta para encontrar el mínimo de la función es buscarlo en la malla. Pero si la malla no tiene la resolución correcta, perdemos el mínimo."
   ]
  },
  {
   "cell_type": "code",
   "execution_count": 4,
   "metadata": {
    "collapsed": false
   },
   "outputs": [
    {
     "name": "stdout",
     "output_type": "stream",
     "text": [
      "Grid minimum=0.00111 at x=0.300 y=0.000\n"
     ]
    }
   ],
   "source": [
    "min_idx = np.unravel_index(np.argmin(Z), Z.shape)\n",
    "print \"Grid minimum=%.5f\"%Z[min_idx], \"at x=%.3f y=%.3f\"%(P0[min_idx], P1[min_idx])"
   ]
  },
  {
   "cell_type": "markdown",
   "metadata": {},
   "source": [
    "Definimos las derivadas y formamos el gradiente. Observa como el negativo del gradiente **es un vector** que apunta a la dirección de mayor descenso"
   ]
  },
  {
   "cell_type": "code",
   "execution_count": 5,
   "metadata": {
    "collapsed": true
   },
   "outputs": [],
   "source": [
    "def df_p0(p):\n",
    "    return 2*(p[0]-1./3)\n",
    "\n",
    "def df_p1(p):\n",
    "    return p[1]\n",
    "\n",
    "def grad_f(p):\n",
    "    return np.array([df_p0(p), df_p1(p)]) "
   ]
  },
  {
   "cell_type": "code",
   "execution_count": 6,
   "metadata": {
    "collapsed": false
   },
   "outputs": [
    {
     "name": "stdout",
     "output_type": "stream",
     "text": [
      "Mesh size (40, 40)\n",
      "[-1.38726969 -0.76367314]\n",
      "[-0.32541649 -0.07221649]\n"
     ]
    },
    {
     "data": {
      "text/plain": [
       "<matplotlib.patches.FancyArrow at 0x10add2a10>"
      ]
     },
     "execution_count": 6,
     "metadata": {},
     "output_type": "execute_result"
    },
    {
     "data": {
      "image/png": "[encoded data removed]",
      "text/plain": [
       "<matplotlib.figure.Figure at 0x10ac3bd50>"
      ]
     },
     "metadata": {},
     "output_type": "display_data"
    }
   ],
   "source": [
    "plot_contour(f, [1./3], [0])\n",
    "r = np.random.random(size=2)*4-2\n",
    "grad = grad_f(r)\n",
    "grad = grad / np.linalg.norm(grad) / 3\n",
    "print r\n",
    "print grad\n",
    "plt.scatter(r[0],r[1], c=\"white\")\n",
    "plt.arrow(r[0], r[1], -grad[0], -grad[1], head_width=0.05, head_length=0.1, fc='white', ec='white')\n"
   ]
  },
  {
   "cell_type": "markdown",
   "metadata": {},
   "source": [
    "asi que damos pasitos en la dirección del mayor gradiente descendiente:\n",
    "\n",
    "- limitamos el número máximo de pasos\n",
    "- en cuanto vemos que el gradiente es demasiado pequeño paramos la iteración"
   ]
  },
  {
   "cell_type": "code",
   "execution_count": 15,
   "metadata": {
    "collapsed": false
   },
   "outputs": [
    {
     "name": "stdout",
     "output_type": "stream",
     "text": [
      "Mesh size (40, 40)\n",
      "0 [ 1.6141245  -1.02062496] [ 0.25615823 -0.1020625 ] 0.275742259876\n",
      "1 [ 1.35796627 -0.91856246] [ 0.20492659 -0.09185625] 0.224571761611\n",
      "2 [ 1.15303968 -0.82670622] [ 0.16394127 -0.08267062] 0.18360602282\n",
      "3 [ 0.98909841 -0.7440356 ] [ 0.13115302 -0.07440356] 0.150787941248\n",
      "4 [ 0.8579454  -0.66963204] [ 0.10492241 -0.0669632 ] 0.124470009689\n",
      "5 [ 0.75302298 -0.60266883] [ 0.08393793 -0.06026688] 0.10333282794\n",
      "6 [ 0.66908505 -0.54240195] [ 0.06715034 -0.05424019] 0.0863201451552\n",
      "7 [ 0.60193471 -0.48816175] [ 0.05372028 -0.04881618] 0.0725870991441\n",
      "8 [ 0.54821443 -0.43934558] [ 0.04297622 -0.04393456] 0.061458936568\n",
      "9 [ 0.50523821 -0.39541102] [ 0.03438098 -0.0395411 ] 0.0523979988235\n",
      "10 [ 0.47085724 -0.35586992] [ 0.02750478 -0.03558699] 0.0449771827567\n",
      "11 [ 0.44335246 -0.32028293] [ 0.02200382 -0.03202829] 0.0388584590423\n",
      "12 [ 0.42134863 -0.28825463] [ 0.01760306 -0.02882546] 0.0337753617029\n",
      "13 [ 0.40374557 -0.25942917] [ 0.01408245 -0.02594292] 0.0295186430197\n",
      "14 [ 0.38966312 -0.23348625] [ 0.01126596 -0.02334863] 0.0259245081757\n",
      "15 [ 0.37839717 -0.21013763] [ 0.00901277 -0.02101376] 0.0228649992762\n",
      "16 [ 0.3693844  -0.18912387] [ 0.00721021 -0.01891239] 0.0202401961921\n",
      "17 [ 0.36217419 -0.17021148] [ 0.00576817 -0.01702115] 0.0179719578528\n",
      "18 [ 0.35640602 -0.15319033] [ 0.00461454 -0.01531903] 0.015998960067\n",
      "19 [ 0.35179148 -0.1378713 ] [ 0.00369163 -0.01378713] 0.0142728089315\n",
      "20 [ 0.34809985 -0.12408417] [ 0.0029533  -0.01240842] 0.0127550307382\n",
      "21 [ 0.34514655 -0.11167575] [ 0.00236264 -0.01116758] 0.0114147630404\n",
      "22 [ 0.3427839  -0.10050818] [ 0.00189011 -0.01005082] 0.0102269969534\n",
      "Minimum: [ 0.34089379 -0.09045736]\n"
     ]
    },
    {
     "data": {
      "image/png": "[encoded data removed]",
      "text/plain": [
       "<matplotlib.figure.Figure at 0x11230d5d0>"
      ]
     },
     "metadata": {},
     "output_type": "display_data"
    }
   ],
   "source": [
    "plot_contour(f, [1./3], [0])\n",
    "\n",
    "step_size   = 0.1\n",
    "max_steps   = 100\n",
    "min_delta   = 1e-2\n",
    "\n",
    "r = np.random.random(size=2)*4-2\n",
    "\n",
    "for i in range(max_steps):\n",
    "    delta = grad_f(r) * step_size\n",
    "    if np.linalg.norm(delta)<min_delta:\n",
    "        break\n",
    "    print i, r, delta, np.linalg.norm(delta)\n",
    "    plt.arrow(r[0], r[1], -delta[0], -delta[1], head_width=0.05, head_length=0.1, fc='white', ec='white')\n",
    "    r    -= delta\n",
    "    \n",
    "    \n",
    "print \"Minimum:\", r"
   ]
  },
  {
   "cell_type": "markdown",
   "metadata": {},
   "source": [
    "# 2. Optimización general"
   ]
  },
  {
   "cell_type": "markdown",
   "metadata": {},
   "source": [
    "usamos las librerías de minimización de **scipy** para encontrar el mínimo por un proceso iterativo que empieza desde una posición que definimos aleatoriamente."
   ]
  },
  {
   "cell_type": "code",
   "execution_count": 8,
   "metadata": {
    "collapsed": false
   },
   "outputs": [
    {
     "name": "stdout",
     "output_type": "stream",
     "text": [
      "init point [ 0.00372632  0.60550126]\n",
      "      fun: 9.557053212311544e-17\n",
      " hess_inv: array([[1, 0],\n",
      "       [0, 1]])\n",
      "      jac: array([ -3.57511454e-09,   8.50511839e-09])\n",
      "  message: 'Optimization terminated successfully.'\n",
      "     nfev: 12\n",
      "      nit: 1\n",
      "     njev: 3\n",
      "   status: 0\n",
      "  success: True\n",
      "        x: array([  3.33333324e-01,  -3.19802140e-09])\n"
     ]
    }
   ],
   "source": [
    "p_init = np.random.random(size=2)*2\n",
    "print \"init point\", p_init\n",
    "result = minimize(f, p_init,  method=\"BFGS\")\n",
    "print result"
   ]
  },
  {
   "cell_type": "code",
   "execution_count": 9,
   "metadata": {
    "collapsed": false
   },
   "outputs": [
    {
     "name": "stdout",
     "output_type": "stream",
     "text": [
      "minimum=0.00000 at x=0.333 y=-0.000\n"
     ]
    }
   ],
   "source": [
    "print \"minimum=%.5f\"%result.fun, \"at x=%.3f y=%.3f\"%(result.x[0], result.x[1])"
   ]
  },
  {
   "cell_type": "markdown",
   "metadata": {},
   "source": [
    "# 3. Usamos las derivadas para optimizar más rápido"
   ]
  },
  {
   "cell_type": "code",
   "execution_count": 10,
   "metadata": {
    "collapsed": false
   },
   "outputs": [
    {
     "name": "stdout",
     "output_type": "stream",
     "text": [
      "init point [ 1.61498003  1.13359093]\n",
      "      fun: 7.216861102618787e-16\n",
      " hess_inv: array([[  5.00560546e-01,  -1.25777238e-05],\n",
      "       [ -1.25777238e-05,   1.00000028e+00]])\n",
      "      jac: array([ -5.37149119e-08,   6.02637080e-10])\n",
      "  message: 'Optimization terminated successfully.'\n",
      "     nfev: 6\n",
      "      nit: 5\n",
      "     njev: 6\n",
      "   status: 0\n",
      "  success: True\n",
      "        x: array([  3.33333306e-01,   6.02637080e-10])\n"
     ]
    }
   ],
   "source": [
    "p_init = np.random.random(size=2)*2\n",
    "print \"init point\", p_init\n",
    "result = minimize(f, p_init, jac=grad_f, method=\"BFGS\")\n",
    "print result\n"
   ]
  },
  {
   "cell_type": "markdown",
   "metadata": {},
   "source": [
    "# 4.  Usamos cómputo simbólico para ayudarnos con las derivadas"
   ]
  },
  {
   "cell_type": "markdown",
   "metadata": {},
   "source": [
    "primero definimos nuestra función usando variables simbólicas (**no variables normales de python**)"
   ]
  },
  {
   "cell_type": "code",
   "execution_count": 11,
   "metadata": {
    "collapsed": false
   },
   "outputs": [
    {
     "data": {
      "image/png": "[encoded data removed]",
      "text/latex": [
       "$$p_{1}^{2} + \\left(p_{0} - \\frac{1}{3}\\right)^{2}$$"
      ],
      "text/plain": [
       "  2             2\n",
       "p₁  + (p₀ - 1/3) "
      ]
     },
     "execution_count": 11,
     "metadata": {},
     "output_type": "execute_result"
    }
   ],
   "source": [
    "sym.init_printing(use_latex=True)\n",
    "p_0, p_1 = sym.symbols(\"p_0, p_1\")\n",
    "f_sym = (p_0-sym.S(\"1/3\"))**2 + p_1**2\n",
    "f_sym"
   ]
  },
  {
   "cell_type": "markdown",
   "metadata": {},
   "source": [
    "le pedimos a `sympy` que nos haga las derivadas"
   ]
  },
  {
   "cell_type": "code",
   "execution_count": 12,
   "metadata": {
    "collapsed": false
   },
   "outputs": [
    {
     "data": {
      "image/png": "[encoded data removed]",
      "text/latex": [
       "$$\\left ( 2 p_{0} - \\frac{2}{3}, \\quad 2 p_{1}\\right )$$"
      ],
      "text/plain": [
       "(2⋅p₀ - 2/3, 2⋅p₁)"
      ]
     },
     "execution_count": 12,
     "metadata": {},
     "output_type": "execute_result"
    }
   ],
   "source": [
    "df_p0_sym = sym.diff(f_sym, p_0)\n",
    "df_p1_sym = sym.diff(f_sym, p_1)\n",
    "df_p0_sym, df_p1_sym"
   ]
  },
  {
   "cell_type": "markdown",
   "metadata": {},
   "source": [
    "y convertimos la función original y la derivada a funciones normales de python (en este caso forzamos que sea de un solo argumento compuesto por dos valores, observa la **doble lista**)"
   ]
  },
  {
   "cell_type": "code",
   "execution_count": 13,
   "metadata": {
    "collapsed": false
   },
   "outputs": [
    {
     "name": "stdout",
     "output_type": "stream",
     "text": [
      "0.0 0.0 0\n"
     ]
    }
   ],
   "source": [
    "f1     = sym.lambdify([[p_0,p_1]], f_sym, \"numpy\")\n",
    "df1_p0 = sym.lambdify([[p_0,p_1]], df_p0_sym, \"numpy\")\n",
    "df1_p1 = sym.lambdify([[p_0,p_1]], df_p1_sym, \"numpy\")\n",
    "print f1([1./3, 0]), df1_p0([1./3, 0]), df1_p1([1./3, 0])"
   ]
  },
  {
   "cell_type": "markdown",
   "metadata": {},
   "source": [
    "y ahora ya podemos minimizar eficientemente, sin haber tenido que derivar manualmente!!"
   ]
  },
  {
   "cell_type": "code",
   "execution_count": 14,
   "metadata": {
    "collapsed": false
   },
   "outputs": [
    {
     "name": "stdout",
     "output_type": "stream",
     "text": [
      "init point [ 1.55178994  0.54718349]\n",
      "      fun: 4.6009629492901676e-35\n",
      " hess_inv: array([[ 0.58391312, -0.18685595],\n",
      "       [-0.18685595,  0.91608688]])\n",
      "      jac: array([  0.00000000e+00,  -1.35660797e-17])\n",
      "  message: 'Optimization terminated successfully.'\n",
      "     nfev: 4\n",
      "      nit: 2\n",
      "     njev: 4\n",
      "   status: 0\n",
      "  success: True\n",
      "        x: array([  3.33333333e-01,  -6.78303984e-18])\n"
     ]
    }
   ],
   "source": [
    "def jac_f1(p):\n",
    "    return np.array([df1_p0(p), df1_p1(p)])\n",
    "\n",
    "p_init = np.random.random(size=2)*2\n",
    "print \"init point\", p_init\n",
    "result = minimize(f1, p_init, jac=jac_f1, method=\"BFGS\")\n",
    "print result"
   ]
  },
  {
   "cell_type": "code",
   "execution_count": null,
   "metadata": {
    "collapsed": true
   },
   "outputs": [],
   "source": []
  }
 ],
 "metadata": {
  "kernelspec": {
   "display_name": "Python 2",
   "language": "python",
   "name": "python2"
  },
  "language_info": {
   "codemirror_mode": {
    "name": "ipython",
    "version": 2
   },
   "file_extension": ".py",
   "mimetype": "text/x-python",
   "name": "python",
   "nbconvert_exporter": "python",
   "pygments_lexer": "ipython2",
   "version": "2.7.11"
  },
  "toc": {
   "toc_cell": false,
   "toc_number_sections": false,
   "toc_threshold": 6,
   "toc_window_display": false
  },
  "widgets": {
   "state": {},
   "version": "1.1.2"
  }
 },
 "nbformat": 4,
 "nbformat_minor": 0
}
