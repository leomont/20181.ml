{
 "cells": [
  {
   "cell_type": "markdown",
   "metadata": {},
   "source": [
    "## EJECUTA ESTA CELDA PARA AUTENTICARTE CON TU CUENTA DE GMAIL"
   ]
  },
  {
   "cell_type": "code",
   "execution_count": null,
   "metadata": {},
   "outputs": [],
   "source": [
    "!sudo /opt/miniconda/bin/pip install httplib2 apiclient oauth2client==1.5.2 ntplib tzlocal gspread google-api-python-client==1.6.2"
   ]
  },
  {
   "cell_type": "code",
   "execution_count": null,
   "metadata": {},
   "outputs": [],
   "source": [
    "from mooclib import *\n",
    "import inspect, urllib\n",
    "html, auth_code, userinfo = google_authenticate(PORT_NUMBER=8888)\n",
    "html"
   ]
  },
  {
   "cell_type": "markdown",
   "metadata": {},
   "source": [
    "## Ejercicio 1\n",
    "\n",
    "implementa una función de kernel polinomial en la que, dadas dos matrices $\\mathbf{U} \\in \\mathbb{R}^{m\\times n}$ y $\\mathbf{V} \\in \\mathbb{R}^{l\\times n}$, devuelva una matriz $\\in \\mathbb{R}^{m\\times l}$ en la que el elemento $i,j$ venga dado por $(u^{(i)} \\cdot v^{(j)}+1)^3$\n",
    "\n",
    "P.ej.\n",
    "\n",
    "      U=[[ 1.5  1.5  0. ]\n",
    "         [ 1.5  1.5  1. ]\n",
    "         [ 1.   0.   1. ]\n",
    "         [ 0.   0.5  1. ]\n",
    "         [ 1.   1.   0.5]]\n",
    "         \n",
    "      V=[[ 1.   1.5  0.5]\n",
    "         [ 1.   2.   2. ]]   \n",
    "         \n",
    "      poly_kernel(U,V)\n",
    "            [[ 107.171875  166.375   ]\n",
    "             [ 144.703125  421.875   ]\n",
    "             [  15.625      64.      ]\n",
    "             [  11.390625   64.      ]\n",
    "             [  52.734375  125.      ]]"
   ]
  },
  {
   "cell_type": "code",
   "execution_count": null,
   "metadata": {
    "collapsed": true
   },
   "outputs": [],
   "source": [
    "def poly_kernel(U,V):\n",
    "    degree = 3.\n",
    "    r = np.zeros((U.shape[0],V.shape[0]))\n",
    "    r = ...\n",
    "    return r\n",
    "\n",
    "import urllib, inspect\n",
    "src1 = urllib.quote_plus(inspect.getsource(poly_kernel))"
   ]
  },
  {
   "cell_type": "markdown",
   "metadata": {},
   "source": [
    "comprueba tu código"
   ]
  },
  {
   "cell_type": "code",
   "execution_count": null,
   "metadata": {},
   "outputs": [],
   "source": [
    "import numpy as np\n",
    "U=np.array([[ 1.5,1.5,0.], [ 1.5,1.5,1.], [ 1.,0.,1. ], [ 0.,0.5,1.], [1.,1.,0.5]])\n",
    "V=np.array([[ 1.,1.5,0.5], [ 1.,2.,2. ]])\n",
    "poly_kernel(U,V)"
   ]
  },
  {
   "cell_type": "markdown",
   "metadata": {},
   "source": [
    "#### evaluate your answer before submitting:"
   ]
  },
  {
   "cell_type": "code",
   "execution_count": null,
   "metadata": {},
   "outputs": [],
   "source": [
    "!./run CHECK_SOLUTION PS6_1 $src1"
   ]
  },
  {
   "cell_type": "markdown",
   "metadata": {},
   "source": [
    "#### submit your answer (you must be connected to internet)"
   ]
  },
  {
   "cell_type": "code",
   "execution_count": null,
   "metadata": {},
   "outputs": [],
   "source": [
    "!./run SUBMIT_SOLUTION PS6_1 $src1"
   ]
  },
  {
   "cell_type": "markdown",
   "metadata": {},
   "source": [
    "## Ejercicio 2\n",
    "\n",
    "implementa una función de kernel polinomial en la que, dadas dos matrices $\\mathbf{U} \\in \\mathbb{R}^{m\\times n}$ y $\\mathbf{V} \\in \\mathbb{R}^{l\\times n}$, devuelva una matriz $\\in \\mathbb{R}^{m\\times l}$ en la que el elemento $i,j$ venga dado por $2 e^{-2 ||u^{(i)}-v^{(j)}||^2}$ \n",
    "\n",
    "P.ej. con las mismas matrices $\\mathbf{U}$ y $\\mathbf{V}$ del ejercicio anterior, el resultado debería de ser\n",
    "\n",
    "        [[  7.35758882e-01   2.46819608e-04]\n",
    "         [  7.35758882e-01   9.95741367e-02]\n",
    "         [  1.34758940e-02   9.07998595e-05]\n",
    "         [  2.22179931e-02   4.06936738e-04]\n",
    "         [  1.21306132e+00   3.00687839e-03]]"
   ]
  },
  {
   "cell_type": "code",
   "execution_count": null,
   "metadata": {},
   "outputs": [],
   "source": [
    "def radial_kernel(U,V):\n",
    "    r = np.zeros((U.shape[0],V.shape[0]))\n",
    "    r = ....\n",
    "    return r\n",
    "\n",
    "import urllib, inspect\n",
    "src2 = urllib.quote_plus(inspect.getsource(radial_kernel))"
   ]
  },
  {
   "cell_type": "markdown",
   "metadata": {},
   "source": [
    "comprueba tu código"
   ]
  },
  {
   "cell_type": "code",
   "execution_count": null,
   "metadata": {},
   "outputs": [],
   "source": [
    "U=np.array([[ 1.5,1.5,0.], [ 1.5,1.5,1.], [ 1.,0.,1. ], [ 0.,0.5,1.], [1.,1.,0.5]])\n",
    "V=np.array([[ 1.,1.5,0.5], [ 1.,2.,2. ]])\n",
    "print radial_kernel(U,V)"
   ]
  },
  {
   "cell_type": "markdown",
   "metadata": {},
   "source": [
    "#### evaluate your answer before submitting:"
   ]
  },
  {
   "cell_type": "code",
   "execution_count": null,
   "metadata": {},
   "outputs": [],
   "source": [
    "!./run CHECK_SOLUTION PS6_2 $src2"
   ]
  },
  {
   "cell_type": "markdown",
   "metadata": {},
   "source": [
    "#### submit your answer (you must be connected to internet)"
   ]
  },
  {
   "cell_type": "code",
   "execution_count": null,
   "metadata": {},
   "outputs": [],
   "source": [
    "!./run SUBMIT_SOLUTION PS6_2 $src2"
   ]
  },
  {
   "cell_type": "markdown",
   "metadata": {},
   "source": [
    "## Ejercicio 3:\n",
    "\n",
    "Revisa las notas para entender el algoritmo de kernel regression. Completa la clase `KReg` para que calcule\n",
    "\n",
    " $$\\mathbf{K}_{\\mathbf{I}} = (λ\\mathbf{I}_m + K_f(\\mathbf{X}, \\mathbf{X}))^{−1}$$\n",
    " \n",
    "en el método `fit`, en donde:\n",
    "- $K_f$ es una función de kernel con la misma espeficicación de las de los ejercicios anteriores y está guardada en `self.Kf`\n",
    "- $\\mathbf{X}$ viene dado por `self.Xtrain`\n",
    "- $\\lambda$ está en `self.lambda`\n",
    "\n",
    "puedes usar la función [`np.linalg.pinv`](https://docs.scipy.org/doc/numpy/reference/generated/numpy.linalg.pinv.html) para obtener la inversa de una matriz, y la función [`np.eye`](https://docs.scipy.org/doc/numpy/reference/generated/numpy.eye.html) para generar una matriz identidad."
   ]
  },
  {
   "cell_type": "code",
   "execution_count": null,
   "metadata": {},
   "outputs": [],
   "source": [
    "def KReg(**args): # hack for inspect to work with classes\n",
    "    class KReg_class:\n",
    "        def __init__ (self, lmbd=0.1, Kf=None):\n",
    "            self.lmbd = lmbd\n",
    "            self.Kf    = Kf if Kf is not None else self.dot\n",
    "\n",
    "        def dot(self,X1,X2):\n",
    "            return X1.dot(X2.T)\n",
    "\n",
    "        def fit(self,X,y):\n",
    "            self.Xtrain = X\n",
    "\n",
    "            self.KIinv  =  ...\n",
    "            \n",
    "    return KReg_class(**args)           \n",
    "\n",
    "import urllib, inspect\n",
    "src3 = urllib.quote_plus(inspect.getsource(KReg))"
   ]
  },
  {
   "cell_type": "markdown",
   "metadata": {},
   "source": [
    "Comprueba tu código. Ha de dar 2.46 aprox."
   ]
  },
  {
   "cell_type": "code",
   "execution_count": null,
   "metadata": {},
   "outputs": [],
   "source": [
    "X,y = (np.array([[5, 0],[3, 5],[5, 5],[7, 0],[7, 5]]), \n",
    "       np.array([9, 5, 2, 8, 2]))\n",
    "\n",
    "kr = KReg()\n",
    "kr.fit(X,y)\n",
    "np.sum(kr.KIinv)"
   ]
  },
  {
   "cell_type": "markdown",
   "metadata": {},
   "source": [
    "#### evaluate your answer before submitting:"
   ]
  },
  {
   "cell_type": "code",
   "execution_count": null,
   "metadata": {},
   "outputs": [],
   "source": [
    "!./run CHECK_SOLUTION PS6_3 $src3"
   ]
  },
  {
   "cell_type": "markdown",
   "metadata": {},
   "source": [
    "#### submit your answer (you must be connected to internet)"
   ]
  },
  {
   "cell_type": "code",
   "execution_count": null,
   "metadata": {},
   "outputs": [],
   "source": [
    "!./run SUBMIT_SOLUTION PS6_3 $src3"
   ]
  },
  {
   "cell_type": "markdown",
   "metadata": {},
   "source": [
    "## Ejercicio 4\n",
    "\n",
    "Implementa la función `predict` de la clase siguiente para un conjunto de nuevo de datos siguiendo el API de `sklearn`:\n",
    "\n",
    "$$\\hat{\\mathbf{y}} = \\mathbf{y}_{tr}^T\\mathbf{K}_{\\mathbf{I}}K_f(\\mathbf{X}_{tr}, \\mathbf{X})$$\n",
    "\n",
    "donde:\n",
    "\n",
    "- $\\mathbf{y}_{tr}$ está en `self.ytrain`\n",
    "- $\\mathbf{X}_{tr}$ está en `self.Xtrain`\n",
    "- $\\mathbf{K}_{\\mathbf{I}}$ está en `self.KIinv`\n",
    "- $K_f$ está en `self.Kf`\n",
    "\n",
    "pon atención a que el resultado ha de ser un vector de $m$ elementos (no una matriz, aunque sea de una sola columna o fila)."
   ]
  },
  {
   "cell_type": "code",
   "execution_count": null,
   "metadata": {
    "collapsed": true
   },
   "outputs": [],
   "source": [
    "def KReg(**args): # hack for inspect to work with classes\n",
    "    class KReg_class:\n",
    "        def __init__ (self, lmbd=0.1, Kf=None):\n",
    "            self.lmbd = lmbd\n",
    "            self.Kf    = Kf if Kf is not None else self.dot\n",
    "\n",
    "        def dot(self,X1,X2):\n",
    "            return X1.dot(X2.T)\n",
    "\n",
    "        def fit(self,X,y):\n",
    "            self.Xtrain = X\n",
    "            self.ytrain = y\n",
    "\n",
    "            self.KIinv  = ...\n",
    "\n",
    "        def predict(self,X):\n",
    "            yhat = ...\n",
    "            return yhat\n",
    "    return KReg_class(**args)           \n",
    "        \n",
    "import urllib, inspect\n",
    "src4 = urllib.quote_plus(inspect.getsource(KReg))"
   ]
  },
  {
   "cell_type": "markdown",
   "metadata": {},
   "source": [
    "\n",
    "Comprueba tu código. La ejecución de la siguiente celda con la función de kernel radial que hiciste en los ejercicios anteriores debería de darte algo así:"
   ]
  },
  {
   "cell_type": "code",
   "execution_count": 20,
   "metadata": {},
   "outputs": [
    {
     "data": {
      "image/png": "[encoded data removed]",
      "text/plain": [
       "<IPython.core.display.Image object>"
      ]
     },
     "execution_count": 20,
     "metadata": {},
     "output_type": "execute_result"
    }
   ],
   "source": [
    "from IPython.display import Image\n",
    "Image(filename='imgs/kreg.png')"
   ]
  },
  {
   "cell_type": "code",
   "execution_count": null,
   "metadata": {},
   "outputs": [],
   "source": [
    "import numpy as np\n",
    "import matplotlib.pyplot as plt\n",
    "%matplotlib inline\n",
    "\n",
    "d    = np.loadtxt(\"data/regdata.csv\")\n",
    "X, y = d[:,0].reshape(-1,1), d[:,1]\n",
    "\n",
    "def plot_regressor_prediction_in_1D(X, regressor, color=\"r\", linewidth=3):\n",
    "    i = np.argsort(X[:,0])\n",
    "    plt.plot (X[i,:], rr.predict(X[i,:]), color=\"r\", linewidth=3)\n",
    "\n",
    "\n",
    "plt.figure(figsize=(15,3))\n",
    "for i,l in enumerate([0,.001,1]):\n",
    "    plt.subplot(1,3,i+1)\n",
    "    rr = KReg(lmbd=l, Kf=radial_kernel)\n",
    "    rr.fit(X,y)\n",
    "    plt.scatter(X,y)\n",
    "    plot_regressor_prediction_in_1D(X,rr)\n",
    "    "
   ]
  },
  {
   "cell_type": "markdown",
   "metadata": {},
   "source": [
    "#### evaluate your answer before submitting:"
   ]
  },
  {
   "cell_type": "code",
   "execution_count": null,
   "metadata": {},
   "outputs": [],
   "source": [
    "!./run CHECK_SOLUTION PS6_4 $src4"
   ]
  },
  {
   "cell_type": "markdown",
   "metadata": {},
   "source": [
    "#### submit your answer (you must be connected to internet)"
   ]
  },
  {
   "cell_type": "code",
   "execution_count": null,
   "metadata": {},
   "outputs": [],
   "source": [
    "!./run SUBMIT_SOLUTION PS6_4 $src4"
   ]
  },
  {
   "cell_type": "code",
   "execution_count": null,
   "metadata": {
    "collapsed": true
   },
   "outputs": [],
   "source": []
  }
 ],
 "metadata": {
  "kernelspec": {
   "display_name": "Python 2",
   "language": "python",
   "name": "python2"
  },
  "language_info": {
   "codemirror_mode": {
    "name": "ipython",
    "version": 2
   },
   "file_extension": ".py",
   "mimetype": "text/x-python",
   "name": "python",
   "nbconvert_exporter": "python",
   "pygments_lexer": "ipython2",
   "version": "2.7.14"
  },
  "toc": {
   "toc_cell": false,
   "toc_number_sections": false,
   "toc_threshold": 6,
   "toc_window_display": false
  },
  "widgets": {
   "state": {},
   "version": "1.1.2"
  }
 },
 "nbformat": 4,
 "nbformat_minor": 1
}
