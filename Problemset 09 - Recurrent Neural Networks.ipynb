{
 "cells": [
  {
   "cell_type": "markdown",
   "metadata": {},
   "source": [
    "## EJECUTA ESTA CELDA PARA AUTENTICARTE CON TU CUENTA DE GMAIL"
   ]
  },
  {
   "cell_type": "code",
   "execution_count": null,
   "metadata": {
    "collapsed": true
   },
   "outputs": [],
   "source": [
    "from mooclib import *\n",
    "import inspect, urllib\n",
    "html, auth_code, userinfo = google_authenticate(PORT_NUMBER=8080)\n",
    "html"
   ]
  },
  {
   "cell_type": "markdown",
   "metadata": {},
   "source": [
    "### Entiende el siguiente dataset y la señal que extraemos del mismo"
   ]
  },
  {
   "cell_type": "code",
   "execution_count": null,
   "metadata": {
    "collapsed": false
   },
   "outputs": [],
   "source": [
    "import pandas as pd\n",
    "import pandas, numpy, theano, time\n",
    "import matplotlib.pyplot as plt\n",
    "import numpy as np\n",
    "%matplotlib inline"
   ]
  },
  {
   "cell_type": "code",
   "execution_count": null,
   "metadata": {
    "collapsed": false
   },
   "outputs": [],
   "source": [
    "cop = pd.read_csv(\"data/eurcop.csv\")\n",
    "cop.head()"
   ]
  },
  {
   "cell_type": "code",
   "execution_count": null,
   "metadata": {
    "collapsed": false
   },
   "outputs": [],
   "source": [
    "signal = cop.Rate.as_matrix()\n",
    "plt.figure(figsize=(15,2))\n",
    "plt.plot(signal)\n",
    "plt.xlim([0, len(cop)])\n",
    "plt.title(\"COP/EUR exchange rate\")"
   ]
  },
  {
   "cell_type": "markdown",
   "metadata": {},
   "source": [
    "## Ejercicio 1: Data normalization\n",
    "\n",
    "Completa la siguiente función para:\n",
    "\n",
    "1. Cargar los datos del histórico de la tasa de cambio peso/dólar\n",
    "1. Usar un [MinMaxScaler](http://scikit-learn.org/stable/modules/generated/sklearn.preprocessing.MinMaxScaler.html) para normalizar la columna `Rate` a valores entre 0 y 1\n",
    "\n",
    "La función habrá de devolver un array numpy de con `shape` (5044,) con la columna `Rate` normalizada."
   ]
  },
  {
   "cell_type": "code",
   "execution_count": null,
   "metadata": {
    "collapsed": false
   },
   "outputs": [],
   "source": [
    "def cop_normalized():\n",
    "    from sklearn.preprocessing import MinMaxScaler\n",
    "    import pandas as pd\n",
    "    signal = ... # obten la columna Rate del dataset\n",
    "    signal_normalized = ...\n",
    "    return signal_normalized\n",
    "\n",
    "import urllib, inspect\n",
    "src1 = urllib.quote_plus(inspect.getsource(cop_normalized))"
   ]
  },
  {
   "cell_type": "markdown",
   "metadata": {},
   "source": [
    "comprueba tu código"
   ]
  },
  {
   "cell_type": "code",
   "execution_count": null,
   "metadata": {
    "collapsed": false
   },
   "outputs": [],
   "source": [
    "s = cop_normalized()\n",
    "print s.shape\n",
    "plt.figure(figsize=(15,2))\n",
    "plt.plot(s)\n",
    "plt.xlim([0, len(s)]);"
   ]
  },
  {
   "cell_type": "markdown",
   "metadata": {},
   "source": [
    "#### evaluate your answer before submitting:"
   ]
  },
  {
   "cell_type": "code",
   "execution_count": null,
   "metadata": {
    "collapsed": false
   },
   "outputs": [],
   "source": [
    "!./run CHECK_SOLUTION PS9_1 $src1"
   ]
  },
  {
   "cell_type": "markdown",
   "metadata": {},
   "source": [
    "#### submit your answer (you must be connected to internet)\n"
   ]
  },
  {
   "cell_type": "code",
   "execution_count": null,
   "metadata": {
    "collapsed": true
   },
   "outputs": [],
   "source": [
    "!./run SUBMIT_SOLUTION PS9_1 $src1"
   ]
  },
  {
   "cell_type": "markdown",
   "metadata": {},
   "source": [
    "## Ejercicio 2: Moving average\n",
    "\n",
    "Completa la función siguiente para que, dada una señal $s$ y un tamaño de ventana $w$, genere una nueva señal que sea una versión suavizada de la orginal de forma que:\n",
    "\n",
    "- $w[k] = \\frac{1}{w}\\sum_{i=k}^{k+w-1}s[i]$\n",
    "- la nueva señal tenga $w$ elementos menos que la señal original\n",
    "\n",
    "P.ej. si la señal original tiene `shape` (5000,), la señal suavizada ha de tener `shape` (4900,)"
   ]
  },
  {
   "cell_type": "code",
   "execution_count": null,
   "metadata": {
    "collapsed": false
   },
   "outputs": [],
   "source": [
    "def moving_average(signal, wsize):\n",
    "    \n",
    "    result = ....\n",
    "    \n",
    "    return result\n",
    "\n",
    "import urllib, inspect\n",
    "src2 = urllib.quote_plus(inspect.getsource(moving_average))"
   ]
  },
  {
   "cell_type": "code",
   "execution_count": null,
   "metadata": {
    "collapsed": false
   },
   "outputs": [],
   "source": [
    "s = cop_normalized()\n",
    "w = 100\n",
    "ms = moving_average(s, w)\n",
    "print s.shape, ms.shape\n",
    "plt.figure(figsize=(15,2))\n",
    "plt.plot(s, alpha=.5, color=\"blue\")\n",
    "plt.plot(list(np.zeros(w)*np.nan)+list(ms), color=\"red\")\n",
    "plt.xlim([0, len(s)]);"
   ]
  },
  {
   "cell_type": "markdown",
   "metadata": {},
   "source": [
    "#### evaluate your answer before submitting:"
   ]
  },
  {
   "cell_type": "code",
   "execution_count": null,
   "metadata": {
    "collapsed": false
   },
   "outputs": [],
   "source": [
    "!./run CHECK_SOLUTION PS9_2 $src2"
   ]
  },
  {
   "cell_type": "markdown",
   "metadata": {},
   "source": [
    "#### submit your answer (you must be connected to internet)\n"
   ]
  },
  {
   "cell_type": "code",
   "execution_count": null,
   "metadata": {
    "collapsed": true
   },
   "outputs": [],
   "source": [
    "!./run SUBMIT_SOLUTION PS9_2 $src2"
   ]
  },
  {
   "cell_type": "markdown",
   "metadata": {},
   "source": [
    "## Ejercicio 3: Building sequences\n",
    "\n",
    "Completa la función siguiente para que, dada una señal $\\in \\mathbb{R}^n$ y una longidud de secuencia, construya una matriz con las secuencias consecutivas y superpuestas.\n",
    "\n",
    "Por ejemplo, la siguiente señal\n",
    "\n",
    "      [20 87 87 77 84 43  9 84 36 63]\n",
    "\n",
    "con una longitud de secuencia igual 5, generaría la siguiente matriz:\n",
    "\n",
    "        [[20 87 87 77 84]\n",
    "         [87 87 77 84 43]\n",
    "         [87 77 84 43  9]\n",
    "         [77 84 43  9 84]\n",
    "         [84 43  9 84 36]]\n",
    "\n",
    "observa como los valores se van desplazando hacia la izquierda en filas consecutivas"
   ]
  },
  {
   "cell_type": "code",
   "execution_count": null,
   "metadata": {
    "collapsed": false
   },
   "outputs": [],
   "source": [
    "def make_seqs(s, seq_len):\n",
    "\n",
    "    result = ...  \n",
    "\n",
    "    return result\n",
    "\n",
    "import urllib, inspect\n",
    "src3 = urllib.quote_plus(inspect.getsource(make_seqs))"
   ]
  },
  {
   "cell_type": "markdown",
   "metadata": {},
   "source": [
    "comprueba tu código y visualiza algunas secuencias de la señal cop/eur"
   ]
  },
  {
   "cell_type": "code",
   "execution_count": null,
   "metadata": {
    "collapsed": false
   },
   "outputs": [],
   "source": [
    "s = np.array([20, 87, 87, 77, 84, 43,  9, 84, 36, 63])\n",
    "print make_seqs(s,5)"
   ]
  },
  {
   "cell_type": "code",
   "execution_count": null,
   "metadata": {
    "collapsed": false
   },
   "outputs": [],
   "source": [
    "s = cop_normalized()\n",
    "ms = moving_average(s, 5)\n",
    "x = make_seqs(ms, seq_len=100)\n",
    "plt.figure(figsize=(10,2))\n",
    "for i in range(10):\n",
    "    plt.plot(x[i])"
   ]
  },
  {
   "cell_type": "markdown",
   "metadata": {},
   "source": [
    "#### evaluate your answer before submitting:"
   ]
  },
  {
   "cell_type": "code",
   "execution_count": null,
   "metadata": {
    "collapsed": false
   },
   "outputs": [],
   "source": [
    "!./run CHECK_SOLUTION PS9_3 $src3"
   ]
  },
  {
   "cell_type": "markdown",
   "metadata": {},
   "source": [
    "#### submit your answer (you must be connected to internet)\n"
   ]
  },
  {
   "cell_type": "code",
   "execution_count": null,
   "metadata": {
    "collapsed": true
   },
   "outputs": [],
   "source": [
    "!./run SUBMIT_SOLUTION PS9_3 $src3"
   ]
  },
  {
   "cell_type": "markdown",
   "metadata": {},
   "source": [
    "## Ejercicio 4: Prepare data for RNN\n",
    "\n",
    "Completa la siguiente función para que, dada una matriz como la resultante del ejercicio anterior, \n",
    "\n",
    "- Extraiga en `X` todas las columnas menos la última\n",
    "- Extraiga en `y` la última columna\n",
    "- Extraiga en `X_train` e `y_train` las primeras filas de `X` y componentes de `y` respectivamente según el porcentaje indicado en  `train_pct`\n",
    "- Extraige en `X_test` e `y_test` el resto de datos.\n",
    "\n",
    "Observa como, con esto, estamos creando un dataset para predecir el siguiente valor de una secuencia.\n",
    "\n",
    "Por ejemplo, con las siguientes secuencias y un train_pct de 0.5:\n",
    "\n",
    "\n",
    "        [[20 87 87 77 84]\n",
    "         [87 87 77 84 43]\n",
    "         [87 77 84 43  9]\n",
    "         [77 84 43  9 84]\n",
    "         [84 43  9 84 36]]\n",
    "         \n",
    "Estos serían los varlores de X_train e y_train\n",
    "\n",
    "        [[20 87 87 77]\n",
    "         [87 87 77 84]]\n",
    "         \n",
    "        [84 43]\n",
    "\n",
    "Y estos los de X_test e y_test\n",
    "\n",
    "        [[87 77 84 43]\n",
    "         [77 84 43  9]\n",
    "         [84 43  9 84]]\n",
    "         \n",
    "        [ 9 84 36]"
   ]
  },
  {
   "cell_type": "code",
   "execution_count": null,
   "metadata": {
    "collapsed": true
   },
   "outputs": [],
   "source": [
    "def prepare_data(seqs, train_pct):\n",
    "\n",
    "    X_train = ...\n",
    "    y_train = ...\n",
    "\n",
    "    X_test  = ...\n",
    "    y_test  = ...\n",
    "\n",
    "    return X_train, y_train, X_test, y_test\n",
    "\n",
    "\n",
    "import urllib, inspect\n",
    "src4 = urllib.quote_plus(inspect.getsource(prepare_data))"
   ]
  },
  {
   "cell_type": "markdown",
   "metadata": {},
   "source": [
    "Comprueba tu código y visualiza las y_train e y_test"
   ]
  },
  {
   "cell_type": "code",
   "execution_count": null,
   "metadata": {
    "collapsed": false
   },
   "outputs": [],
   "source": [
    "s  = np.array([20, 87, 87, 77, 84, 43,  9, 84, 36, 63])\n",
    "sq = make_seqs(s,5)\n",
    "X_train, y_train, X_test, y_test = prepare_data(sq, .5)\n",
    "print sq\n",
    "print X_train\n",
    "print y_train\n",
    "print X_test\n",
    "print y_test"
   ]
  },
  {
   "cell_type": "code",
   "execution_count": null,
   "metadata": {
    "collapsed": false
   },
   "outputs": [],
   "source": [
    "s    = cop_normalized()\n",
    "ms   = moving_average(s, 20)\n",
    "seqs = make_seqs(ms, seq_len=100)\n",
    "X_train, y_train, X_test, y_test = prepare_data(seqs, train_pct=.2)\n",
    "print X_train.shape, X_test.shape, y_train.shape, y_test.shape\n",
    "plt.figure(figsize=(15,2))\n",
    "plt.plot(y_train, label=\"train\")\n",
    "plt.plot(list(np.ones(len(y_train)+X_train.shape[1])*np.nan)+list(y_test), label=\"test\")\n",
    "plt.xlim([0, len(seqs)])\n",
    "plt.legend(loc='center left', bbox_to_anchor=(1, 0.5))"
   ]
  },
  {
   "cell_type": "markdown",
   "metadata": {},
   "source": [
    "#### evaluate your answer before submitting:"
   ]
  },
  {
   "cell_type": "code",
   "execution_count": null,
   "metadata": {
    "collapsed": false
   },
   "outputs": [],
   "source": [
    "!./run CHECK_SOLUTION PS9_4 $src4"
   ]
  },
  {
   "cell_type": "markdown",
   "metadata": {},
   "source": [
    "#### submit your answer (you must be connected to internet)\n"
   ]
  },
  {
   "cell_type": "code",
   "execution_count": null,
   "metadata": {
    "collapsed": true
   },
   "outputs": [],
   "source": [
    "!./run SUBMIT_SOLUTION PS9_4 $src4"
   ]
  },
  {
   "cell_type": "markdown",
   "metadata": {},
   "source": [
    "## Ejercicio 5: Design RNN\n",
    "\n",
    "Completa la función siguiente para genere una red LSTM con `Keras` al igual que en las notas de forma que tenga:\n",
    "\n",
    "- Una capa LSTM con `output_dim` igual a `lstm_unit_size` e `input_dim` según el parámetro homónimo.\n",
    "- Una capa de Dropout con parámetro según el valor de `dropout`\n",
    "- Una capa Dense de 1 neurona\n",
    "\n"
   ]
  },
  {
   "cell_type": "code",
   "execution_count": null,
   "metadata": {
    "collapsed": false
   },
   "outputs": [],
   "source": [
    "\n",
    "def create_rnn(lstm_unit_size, input_dim, dropout):\n",
    "    from keras.models import Sequential\n",
    "    from keras.layers.core import Dense, Dropout\n",
    "    from keras.layers.recurrent import LSTM\n",
    "    \n",
    "    model = Sequential()\n",
    "    ...\n",
    "    return model\n",
    "\n",
    "\n",
    "import urllib, inspect\n",
    "src5 = urllib.quote_plus(inspect.getsource(create_rnn))"
   ]
  },
  {
   "cell_type": "markdown",
   "metadata": {},
   "source": [
    "#### evaluate your answer before submitting:"
   ]
  },
  {
   "cell_type": "code",
   "execution_count": null,
   "metadata": {
    "collapsed": false
   },
   "outputs": [],
   "source": [
    "!./run CHECK_SOLUTION PS9_5 $src5"
   ]
  },
  {
   "cell_type": "markdown",
   "metadata": {},
   "source": [
    "#### submit your answer (you must be connected to internet)\n"
   ]
  },
  {
   "cell_type": "code",
   "execution_count": null,
   "metadata": {
    "collapsed": true
   },
   "outputs": [],
   "source": [
    "!./run SUBMIT_SOLUTION PS9_5 $src5"
   ]
  },
  {
   "cell_type": "markdown",
   "metadata": {},
   "source": [
    "## Ya está! Ahora puedes entrenar y probar tu RNN\n",
    "\n",
    "juega con distintos valores de wsize, seqlen, nb_epoch, batch_size y parámetros de la creación de la RNN"
   ]
  },
  {
   "cell_type": "code",
   "execution_count": null,
   "metadata": {
    "collapsed": false
   },
   "outputs": [],
   "source": [
    "import sys\n",
    "wsize, seqlen = 5,60\n",
    "\n",
    "# obtain timeseries dataset\n",
    "s    = cop_normalized()\n",
    "ms   = moving_average(s, wsize)\n",
    "seqs = make_seqs(ms, seq_len=seqlen)\n",
    "X_train, y_train, X_test, y_test = prepare_data(seqs, train_pct=.5)\n",
    "\n",
    "# reformat dataset as Keras needs them\n",
    "X_train = np.reshape(X_train, (X_train.shape[0], X_train.shape[1], 1))\n",
    "X_test = np.reshape(X_test, (X_test.shape[0], X_test.shape[1], 1))\n",
    "\n",
    "# create and compile model\n",
    "model = create_rnn(lstm_unit_size=20, input_dim=1, dropout=.4)\n",
    "\n",
    "print \"compiling ... \"\n",
    "sys.stdout.flush()\n",
    "model.compile(loss='mean_squared_error', optimizer='adam')\n",
    "print \"done\""
   ]
  },
  {
   "cell_type": "code",
   "execution_count": null,
   "metadata": {
    "collapsed": false
   },
   "outputs": [],
   "source": [
    "batch_size = 50\n",
    "nb_epoch  = 20\n",
    "\n",
    "model.fit(X_train, y_train, nb_epoch=nb_epoch, batch_size=batch_size, verbose=1)\n"
   ]
  },
  {
   "cell_type": "markdown",
   "metadata": {},
   "source": [
    "predict test prices"
   ]
  },
  {
   "cell_type": "code",
   "execution_count": null,
   "metadata": {
    "collapsed": false
   },
   "outputs": [],
   "source": [
    "preds =  model.predict(X_test)[:,0]"
   ]
  },
  {
   "cell_type": "markdown",
   "metadata": {},
   "source": [
    "show predictions"
   ]
  },
  {
   "cell_type": "code",
   "execution_count": null,
   "metadata": {
    "collapsed": false
   },
   "outputs": [],
   "source": [
    "plt.figure(figsize=(15,2))\n",
    "from sklearn.metrics import mean_squared_error\n",
    "plt.title(\"MSE %.6f\"%mean_squared_error(y_test, preds))\n",
    "plt.plot(y_test, label=\"target\")\n",
    "plt.plot(preds, label=\"prediction\")\n",
    "plt.legend(loc='center left', bbox_to_anchor=(1, 0.5))"
   ]
  },
  {
   "cell_type": "markdown",
   "metadata": {},
   "source": [
    "zoom on a region, for better analysis of predictions"
   ]
  },
  {
   "cell_type": "code",
   "execution_count": null,
   "metadata": {
    "collapsed": false
   },
   "outputs": [],
   "source": [
    "plt.figure(figsize=(15,2))\n",
    "l = 200\n",
    "start = np.random.randint(len(y_test)-l)\n",
    "plt.plot(y_test[start:start+l], label=\"target\")\n",
    "plt.plot(preds[start:start+l], label=\"prediction\")\n",
    "plt.legend(loc='center left', bbox_to_anchor=(1, 0.5))"
   ]
  },
  {
   "cell_type": "markdown",
   "metadata": {},
   "source": [
    "measure accuracy on predicting whether next price is going to be lower or higher"
   ]
  },
  {
   "cell_type": "code",
   "execution_count": null,
   "metadata": {
    "collapsed": false
   },
   "outputs": [],
   "source": [
    "diff_ytest = y_test[1:]>y_test[:-1]\n",
    "diff_preds = preds[1:]>preds[:-1]\n",
    "print \"%.3f\"%(np.sum(diff_preds==diff_ytest)*1./len(diff_preds))"
   ]
  },
  {
   "cell_type": "code",
   "execution_count": null,
   "metadata": {
    "collapsed": true
   },
   "outputs": [],
   "source": []
  }
 ],
 "metadata": {
  "kernelspec": {
   "display_name": "Python 2",
   "language": "python",
   "name": "python2"
  },
  "language_info": {
   "codemirror_mode": {
    "name": "ipython",
    "version": 2
   },
   "file_extension": ".py",
   "mimetype": "text/x-python",
   "name": "python",
   "nbconvert_exporter": "python",
   "pygments_lexer": "ipython2",
   "version": "2.7.11"
  },
  "toc": {
   "toc_cell": false,
   "toc_number_sections": false,
   "toc_threshold": 6,
   "toc_window_display": false
  },
  "widgets": {
   "state": {},
   "version": "1.1.2"
  }
 },
 "nbformat": 4,
 "nbformat_minor": 0
}
