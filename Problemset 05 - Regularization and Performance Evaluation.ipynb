{
 "cells": [
  {
   "cell_type": "markdown",
   "metadata": {},
   "source": [
    "## EJECUTA ESTA CELDA PARA AUTENTICARTE CON TU CUENTA DE GMAIL\n"
   ]
  },
  {
   "cell_type": "code",
   "execution_count": null,
   "metadata": {
    "collapsed": true
   },
   "outputs": [],
   "source": [
    "from mooclib import *\n",
    "import inspect, urllib\n",
    "html, auth_code, userinfo = google_authenticate(PORT_NUMBER=8080)\n",
    "html"
   ]
  },
  {
   "cell_type": "markdown",
   "metadata": {},
   "source": [
    "ejecuta esta celda para que sus funciones estén disponible en el problemset."
   ]
  },
  {
   "cell_type": "code",
   "execution_count": 1,
   "metadata": {
    "collapsed": true
   },
   "outputs": [],
   "source": [
    "from sklearn.datasets import *\n",
    "import numpy as np\n",
    "from scipy.optimize import minimize\n",
    "import matplotlib.pyplot as plt\n",
    "%matplotlib inline\n",
    "\n",
    "def plot_2Ddata_with_boundary(predict,X,y):\n",
    "    n = 200\n",
    "    mins,maxs = np.min(X,axis=0), np.max(X,axis=0)\n",
    "    mins -= np.abs(mins)*.2\n",
    "    maxs += np.abs(maxs)*.2\n",
    "    d0 = np.linspace(mins[0], maxs[0],n)\n",
    "    d1 = np.linspace(mins[1], maxs[1],n)\n",
    "    gd0,gd1 = np.meshgrid(d0,d1)\n",
    "    D = np.hstack((gd0.reshape(-1,1), gd1.reshape(-1,1)))\n",
    "    p = (predict(D)*1.).reshape((n,n))\n",
    "    plt.contourf(gd0,gd1,p, levels=[-0.1,0.5], alpha=0.5, cmap=plt.cm.Greys)\n",
    "    plt.scatter(X[y==0][:,0], X[y==0][:,1], c=\"blue\")\n",
    "    plt.scatter(X[y==1][:,0], X[y==1][:,1], c=\"red\")\n"
   ]
  },
  {
   "cell_type": "markdown",
   "metadata": {},
   "source": [
    "## Ejercicio 1: Características polinomiales\n",
    "\n",
    "Completa la función `map_features` para expandir X con características polinomiales según la variable de clase `self.pols`, creando un conjunto de columnas nuevo elevando las originales con cada elemento de `self.pols`. Por ejemplo, si `self.pols`\n",
    " es `[2,5]`, la expansión de\n",
    " \n",
    "      1  2\n",
    "      3  2\n",
    "      2  1\n",
    "      \n",
    "sería\n",
    "\n",
    "      1  2  1  4   1   32\n",
    "      3  2  9  4  243  32\n",
    "      2  1  4  1   32   1\n",
    "      \n",
    "completa el resto de las funciones de la clase `LR` según el problemset de la lección anterior correspondiente, usando la aproximación basade en regresión logística (con $g$ como función sigmoide).\n",
    "\n",
    "$$J(\\theta) = \\frac{1}{m}\\sum_{i=0}^{m-1} (y^{(i)}-g(\\theta\\mathbf{x}^{(i)}))^2$$ \n",
    "\n",
    "observa que $\\mathbf{X}$ ahora se refiere al dataset con (1) una columna de unos añadida; y (2) la expansión de características polinomiales"
   ]
  },
  {
   "cell_type": "code",
   "execution_count": null,
   "metadata": {
    "collapsed": true
   },
   "outputs": [],
   "source": [
    "def LR(**args): # hack for inspect to work with classes\n",
    "    from scipy.optimize import minimize\n",
    "    import numpy as np\n",
    "    \n",
    "    class LR_class:\n",
    "        \n",
    "        def __init__(self, pols):\n",
    "            self.pols = pols\n",
    "        \n",
    "        def map_features(self, X):\n",
    "            rX = ...       \n",
    "            return rX\n",
    "\n",
    "        def fit(self, X, y):\n",
    "            X = np.hstack((np.ones((len(X),1)), X))\n",
    "            X = self.map_features(X)\n",
    "            def cost(t):\n",
    "                return ...\n",
    "                             \n",
    "            r = minimize(cost, np.ones(X.shape[1])*-.11+np.random.random(X.shape[1])*.1, method=\"BFGS\")\n",
    "            self.theta = r.x  \n",
    "\n",
    "        def predict(self, X):\n",
    "            X = np.hstack((np.ones((len(X),1)), X))\n",
    "            X = self.map_features(X)\n",
    "            return (self.g(X.dot(self.theta))>0.5)*1\n",
    "\n",
    "        def g(self, X):\n",
    "            return 1/(1+np.exp(-X))\n",
    "\n",
    "        def score(self, X,y):\n",
    "            return np.sum(self.predict(X)==y)*1./len(X)\n",
    "        \n",
    "    return LR_class(**args)\n",
    "\n",
    "import urllib, inspect\n",
    "src1 = urllib.quote_plus(inspect.getsource(LR))"
   ]
  },
  {
   "cell_type": "markdown",
   "metadata": {},
   "source": [
    "comprueba tu código"
   ]
  },
  {
   "cell_type": "code",
   "execution_count": null,
   "metadata": {
    "collapsed": false
   },
   "outputs": [],
   "source": [
    "import numpy as np\n",
    "X = np.array([[1, 2], [3,2], [2,1]])\n",
    "lr = LR(pols=[2,5])\n",
    "lr.map_features(X)"
   ]
  },
  {
   "cell_type": "markdown",
   "metadata": {},
   "source": [
    "observa las fronteras de clasificación que se generan"
   ]
  },
  {
   "cell_type": "code",
   "execution_count": null,
   "metadata": {
    "collapsed": false
   },
   "outputs": [],
   "source": [
    "data = np.loadtxt(\"data/logregdata.csv\", delimiter=\",\", skiprows=1)\n",
    "X,y = data[:,:2], data[:,2]\n",
    "\n",
    "plt.figure(figsize=(15,3))\n",
    "\n",
    "for i,pols in enumerate([[], [2], [3], [2,4]]):\n",
    "    plt.subplot(1,4,i+1)\n",
    "    lr = LR(pols=pols)\n",
    "    lr.fit(X,y)\n",
    "    plot_2Ddata_with_boundary(lr.predict, X,y)\n",
    "    plt.title(\"pols=\"+str(list(pols)))\n",
    "    "
   ]
  },
  {
   "cell_type": "markdown",
   "metadata": {},
   "source": [
    "#### evaluate your answer before submitting:"
   ]
  },
  {
   "cell_type": "code",
   "execution_count": null,
   "metadata": {
    "collapsed": false
   },
   "outputs": [],
   "source": [
    "!./run CHECK_SOLUTION PS5_1 $src1"
   ]
  },
  {
   "cell_type": "markdown",
   "metadata": {},
   "source": [
    "#### submit your answer (you must be connected to internet)"
   ]
  },
  {
   "cell_type": "code",
   "execution_count": null,
   "metadata": {
    "collapsed": true
   },
   "outputs": [],
   "source": [
    "!./run SUBMIT_SOLUTION PS5_1 $src1"
   ]
  },
  {
   "cell_type": "markdown",
   "metadata": {},
   "source": [
    "## Ejercicio 2: Regularización\n",
    "\n",
    "Implementa la función de coste y gradiente de aproximación probabilística para regresión logística, pero con regularización:\n",
    "\n",
    "$$J(\\theta) = -l(\\theta) = \\frac{1}{m}\\sum_{i=0}^{m-1}y_i log(g(\\mathbf{x}_i\\theta))+(1-y_i) log(1-g(\\mathbf{x}_i\\theta))+ \\lambda ||\\theta||^2$$\n",
    "\n",
    "$$\\nabla J= \\frac{1}{m}2X^{T}\\cdot(Y-g(X\\cdot\\theta)) + 2\\lambda||\\theta||$$\n",
    "\n",
    "En donde los argumentos `t` y `reg` representan $\\theta$ y $\\lambda$ respectivamente. \n"
   ]
  },
  {
   "cell_type": "code",
   "execution_count": null,
   "metadata": {
    "collapsed": false
   },
   "outputs": [],
   "source": [
    "def g(X):\n",
    "    return 1/(1+np.exp(-X))\n",
    "        \n",
    "def cost(X, y, t, reg):\n",
    "    return ...\n",
    "\n",
    "def grad(X, y, t, reg):\n",
    "    return ...\n",
    "\n",
    "import urllib, inspect\n",
    "src2 = urllib.quote_plus(inspect.getsource(cost)+\"\\n\"+inspect.getsource(grad))\n"
   ]
  },
  {
   "cell_type": "markdown",
   "metadata": {},
   "source": [
    "comprueba tu código. el coste y gradientes en la configuración siguiente deben de ser 2.599 y [1.2, 1.65] respectivamente"
   ]
  },
  {
   "cell_type": "code",
   "execution_count": null,
   "metadata": {
    "collapsed": false
   },
   "outputs": [],
   "source": [
    "data = np.loadtxt(\"data/logregdata.csv\", delimiter=\",\", skiprows=1)\n",
    "X,y = data[:,:2], data[:,2]\n",
    "\n",
    "t = np.ones(X.shape[1])*2\n",
    "reg = 0.2\n",
    "\n",
    "print \"cost\", cost(X,y,t,reg)\n",
    "print \"grad\", grad(X,y,t,reg)"
   ]
  },
  {
   "cell_type": "markdown",
   "metadata": {},
   "source": [
    "#### evaluate your answer before submitting:"
   ]
  },
  {
   "cell_type": "code",
   "execution_count": null,
   "metadata": {
    "collapsed": false
   },
   "outputs": [],
   "source": [
    "!./run CHECK_SOLUTION PS5_2 $src2"
   ]
  },
  {
   "cell_type": "markdown",
   "metadata": {},
   "source": [
    "#### submit your answer (you must be connected to internet)"
   ]
  },
  {
   "cell_type": "code",
   "execution_count": null,
   "metadata": {
    "collapsed": true
   },
   "outputs": [],
   "source": [
    "!./run SUBMIT_SOLUTION PS5_2 $src1"
   ]
  },
  {
   "cell_type": "markdown",
   "metadata": {},
   "source": [
    "## Ejercicio 3: Cross validation\n",
    "\n",
    "Fíjate cómo funciona un particionador de un dataset para cross validation"
   ]
  },
  {
   "cell_type": "code",
   "execution_count": 7,
   "metadata": {
    "collapsed": false
   },
   "outputs": [
    {
     "name": "stdout",
     "output_type": "stream",
     "text": [
      "[[7 3]\n",
      " [3 1]\n",
      " [1 2]\n",
      " [2 1]\n",
      " [3 6]\n",
      " [9 0]\n",
      " [3 4]\n",
      " [1 0]\n",
      " [2 6]\n",
      " [5 9]\n",
      " [4 8]\n",
      " [3 9]\n",
      " [5 4]\n",
      " [6 5]\n",
      " [6 5]\n",
      " [8 2]\n",
      " [7 1]\n",
      " [8 4]\n",
      " [3 4]\n",
      " [0 2]]\n",
      "--\n",
      "index train [ 5  6  7  8  9 10 11 12 13 14 15 16 17 18 19] index test [0 1 2 3 4]\n",
      "index train [ 0  1  2  3  4 10 11 12 13 14 15 16 17 18 19] index test [5 6 7 8 9]\n",
      "index train [ 0  1  2  3  4  5  6  7  8  9 15 16 17 18 19] index test [10 11 12 13 14]\n",
      "index train [ 0  1  2  3  4  5  6  7  8  9 10 11 12 13 14] index test [15 16 17 18 19]\n"
     ]
    }
   ],
   "source": [
    "from sklearn.cross_validation import KFold\n",
    "import numpy as np\n",
    "X = np.random.randint(10, size=(20,2))\n",
    "from sklearn.tree import DecisionTreeClassifier\n",
    "print X\n",
    "print \"--\"\n",
    "for itr, its in KFold(len(X), 4):\n",
    "    print \"index train\", itr, \"index test\", its\n",
    "#    print X[itr]\n",
    "#    print X[its]\n",
    "        "
   ]
  },
  {
   "cell_type": "markdown",
   "metadata": {},
   "source": [
    "completa la función siguiente para que dado un estimador, un dataset y un número de _folds_:\n",
    "    \n",
    "- itere sobre un `KFold` con los _folds_ especificados y en cada iteración:\n",
    "    - entrene el estimador con la parte del dataset especificada por los índices de entrenamiento (el dataset de entrenamiento)\n",
    "    - calcule el score con el dataset de entrenamiento\n",
    "    - calcule el score con el dataset de test\n",
    "- finalmente, la función tendrá que devolver la media y desviación estándar de los scores de entrenamiento y test obtenidos durante la iteración."
   ]
  },
  {
   "cell_type": "code",
   "execution_count": null,
   "metadata": {
    "collapsed": true
   },
   "outputs": [],
   "source": [
    "def crossval_estimator(estimator, X,y, n_folds=5):\n",
    "    from sklearn.cross_validation import KFold\n",
    "    sctr, scts = [],[]\n",
    "    for itr, its in KFold(len(X), n_folds):\n",
    "        X_train = ...\n",
    "        y_train = ...\n",
    "        X_test  = ...\n",
    "        y_test  = ...\n",
    "\n",
    "        estimator.fit(...)\n",
    "        \n",
    "        sctr.append(...)\n",
    "        scts.append(...)\n",
    "    return np.mean(sctr), np.std(sctr), np.mean(scts), np.std(scts)\n",
    "\n",
    "import urllib, inspect\n",
    "src3 = urllib.quote_plus(inspect.getsource(crossval_estimator))\n"
   ]
  },
  {
   "cell_type": "markdown",
   "metadata": {},
   "source": [
    "Comprueba tu código, debería de darte una curva como esta en la que se ve el impacto de variar un parámetro del estimador"
   ]
  },
  {
   "cell_type": "code",
   "execution_count": 26,
   "metadata": {
    "collapsed": false
   },
   "outputs": [
    {
     "data": {
      "image/png": "[encoded data removed]",
      "text/plain": [
       "<IPython.core.display.Image object>"
      ]
     },
     "execution_count": 26,
     "metadata": {},
     "output_type": "execute_result"
    }
   ],
   "source": [
    "from IPython.display import Image\n",
    "Image(filename='imgs/dt-depth.png')"
   ]
  },
  {
   "cell_type": "code",
   "execution_count": null,
   "metadata": {
    "collapsed": false
   },
   "outputs": [],
   "source": [
    "from sklearn.tree import DecisionTreeClassifier\n",
    "\n",
    "def crossval_estimators(estimators,X,y):\n",
    "    meanstr, stdstr = [], []\n",
    "    meansts, stdsts = [], []\n",
    "    for estimator in estimators:\n",
    "        mstr, sstr, msts, ssts = crossval_estimator(estimator, X, y, 5)\n",
    "        meanstr.append(mstr)\n",
    "        stdstr.append(sstr)\n",
    "        meansts.append(msts)\n",
    "        stdsts.append(ssts)\n",
    "\n",
    "    return [np.array(i) for i in meanstr, meansts, stdstr, stdsts]\n",
    "\n",
    "data = np.loadtxt(\"data/logregdata.csv\", delimiter=\",\", skiprows=1)\n",
    "X,y = data[:,:2], data[:,2]\n",
    "rngs = range(1,10,1)\n",
    "estimators = [DecisionTreeClassifier(max_depth=i) for i in rngs]\n",
    "\n",
    "def plot_cv_estimators(estimators, rngs, X,y):\n",
    "    meanstr, meansts, stdstr, stdsts = crossval_estimators(estimators,X,y)\n",
    "\n",
    "    plt.grid()\n",
    "    plt.plot(rngs, meanstr, \"o-\", color=\"red\", label=\"train\")\n",
    "    plt.fill_between(rngs, meanstr-stdstr, meanstr+stdstr, color=\"red\", alpha=.2)\n",
    "\n",
    "    plt.plot(rngs, meansts, \"o-\", color=\"green\", label=\"test\")\n",
    "    plt.fill_between(rngs, meansts-stdsts, meansts+stdsts, color=\"green\", alpha=.2)\n",
    "    plt.xlabel(\"estimators\")\n",
    "    plt.ylabel(\"score\")\n",
    "    plt.legend(loc=\"best\")\n",
    "    plt.title(\"validation curve\")\n",
    "    \n",
    "plot_cv_estimators(estimators, rngs, X,y)"
   ]
  },
  {
   "cell_type": "markdown",
   "metadata": {},
   "source": [
    "#### evaluate your answer before submitting:"
   ]
  },
  {
   "cell_type": "code",
   "execution_count": null,
   "metadata": {
    "collapsed": false
   },
   "outputs": [],
   "source": [
    "!./run CHECK_SOLUTION PS5_3 $src3"
   ]
  },
  {
   "cell_type": "markdown",
   "metadata": {},
   "source": [
    "#### submit your answer (you must be connected to internet)"
   ]
  },
  {
   "cell_type": "code",
   "execution_count": null,
   "metadata": {
    "collapsed": true
   },
   "outputs": [],
   "source": [
    "!./run SUBMIT_SOLUTION PS5_3 $src3"
   ]
  },
  {
   "cell_type": "markdown",
   "metadata": {},
   "source": [
    "## Ejercicio 4: Selección de modelos\n",
    "\n",
    "Cuando queremos seleccionar o calibrar los parámetros de un modelo debemos de separar una parte del dataset para realizar el proceso de selección y otra parte para medir el desempeño del modelo que se seleccione. De esta manera, evitamos sesgos estadísticos en el desempeño final reportado.\n",
    "\n",
    "Por tanto, dada una lista de estimadores y un datset:\n",
    "\n",
    "- Dividimos el dataset en dos partes: una para hacer la selección de modelos (`Xsel`, `ysel`) y otra para medir el desempeño del modelo elegido (`Xtest`, `ytest`)\n",
    "\n",
    "- Usamos un método de validación sobre `Xsel`/`ysel` sobre cada estimador y obtenemos un score de desempeño para cada uno de ellos. Esto es el **score de validación** de cada estimador. Observa que, dependiendo del método de validación, se crearán a su vez varias particiones de `Xsel`/`ysel` para entrenar y medir la capacidad de generalización de cada estimador.\n",
    "\n",
    "- Seleccionamos el estimador que tenga el mejor score de validación.\n",
    "\n",
    "- Entrenamos el estimador seleccionado con **TODOS LOS ELEMENTOS** de `Xsel`/`ysel`\n",
    "\n",
    "- Medimos el desempeño del estimador con `Xtest`/`ytest`. Observa que esta es la **ÚNICA VEZ** que usamos estos datos.\n",
    "\n",
    "Completa la función siguiente para que dado una lista de estimadores y las particiones `Xsel`/`ysel` y `Xtest`/`ytest`:\n",
    "\n",
    "1. Realice un cross validation para cada estimador con `Xsel`/`ysel` y obtenga el promedio de desempeño de 5 folds. Usa la función [`cross_val_score`](http://scikit-learn.org/stable/modules/generated/sklearn.model_selection.cross_val_score.html) y la clase [`KFold`](http://scikit-learn.org/stable/modules/generated/sklearn.model_selection.KFold.html) para el argumento `cv`. \n",
    "2. Determine cual es el estimador con mayor score promedio (*best_estimator*)\n",
    "3. Entrene *best_estimator* con `Xsel`/`ysel`\n",
    "4. Mida el score de *best_estimator* con `Xtest`/`ytest`\n",
    "5. Devuelva:\n",
    "   - *best_estimator*\n",
    "   - el score  promedio de *best_estimator* en la fase de cross validation\n",
    "   - el score de *best_estimator* con `Xtest`/`ytest`"
   ]
  },
  {
   "cell_type": "code",
   "execution_count": null,
   "metadata": {
    "collapsed": false
   },
   "outputs": [],
   "source": [
    "def select_model(estimators, Xsel, ysel, Xtest, ytest):\n",
    "    from sklearn.cross_validation import cross_val_score, KFold\n",
    "    means=[]\n",
    "    for estimator in estimators:\n",
    "        sc = cross_val_score(....)\n",
    "        means.append(np.mean(sc))\n",
    "\n",
    "    best_estimator      = ...\n",
    "    best_crossval_score = ...\n",
    "    best_estimator.fit(...)\n",
    "    best_score = best_estimmator.score(...)\n",
    "    return best_estimator, best_crossval_score, best_score\n",
    "\n",
    "import urllib, inspect\n",
    "src4 = urllib.quote_plus(inspect.getsource(select_model))"
   ]
  },
  {
   "cell_type": "markdown",
   "metadata": {},
   "source": [
    "Comprueba tu código. La siguiente prueba muestrea  Xsel y Xtest y realiza el proceso de selección de modelo 100 veces. En promedio, el mejor `max_depth` debería de ser alrededor de 2.4, el score de cross validacion sobre 0.76 y el score de test sobre 0.74. Como cada vez se genera un dataset nuevo con `make_moons` el proceso es estocástico."
   ]
  },
  {
   "cell_type": "code",
   "execution_count": null,
   "metadata": {
    "collapsed": false
   },
   "outputs": [],
   "source": [
    "from sklearn.tree import DecisionTreeClassifier\n",
    "from sklearn.svm import SVC\n",
    "\n",
    "data = np.loadtxt(\"data/logregdata.csv\", delimiter=\",\", skiprows=1)\n",
    "X,y = data[:,:2], data[:,2]\n",
    "\n",
    "a = []\n",
    "n=50\n",
    "for i in range(100):\n",
    "    X,y = make_moons(200, noise=.5)\n",
    "    estimators = [DecisionTreeClassifier(max_depth=i) for i in range(1,5,1)]\n",
    "\n",
    "    Xs, ys = X[:n], y[:n]\n",
    "    Xt, yt = X[n:], y[n:]\n",
    "\n",
    "    best, sc1, sc2 = select_model(estimators, Xs, ys, Xt, yt)\n",
    "    a.append([sc1, sc2, best.max_depth])\n",
    "print \"scores    cv    test    max_depth\"\n",
    "print \"promedios %.3f %.3f   %.3f\"%tuple(np.mean(np.array(a), axis=0))\n",
    "print \"stds      %.3f %.3f   %.3f\"%tuple(np.std(np.array(a), axis=0))\n"
   ]
  },
  {
   "cell_type": "markdown",
   "metadata": {},
   "source": [
    "#### evaluate your answer before submitting:"
   ]
  },
  {
   "cell_type": "code",
   "execution_count": null,
   "metadata": {
    "collapsed": false
   },
   "outputs": [],
   "source": [
    "!./run CHECK_SOLUTION PS5_4 $src4"
   ]
  },
  {
   "cell_type": "markdown",
   "metadata": {},
   "source": [
    "#### submit your answer (you must be connected to internet)"
   ]
  },
  {
   "cell_type": "code",
   "execution_count": null,
   "metadata": {
    "collapsed": true
   },
   "outputs": [],
   "source": [
    "!./run SUBMIT_SOLUTION PS5_4 $src4"
   ]
  },
  {
   "cell_type": "markdown",
   "metadata": {
    "collapsed": false
   },
   "source": [
    "## Ejercicio 5: Resampling for learning curve\n",
    "\n",
    "Fíjate cómo usamos una permutación para escoger aleatoriamente particiones de un vector. Observa que la permutación se usa para indexar los elementos del vector y los elementos escogidos son aleatorios y no se superponen."
   ]
  },
  {
   "cell_type": "code",
   "execution_count": 9,
   "metadata": {
    "collapsed": false
   },
   "outputs": [
    {
     "name": "stdout",
     "output_type": "stream",
     "text": [
      "Original vector [103 101 101 100 102 100 107 105 101 108]\n",
      "Permutation [0 7 2 6 8 1 5 9 3 4]\n",
      "6 first elements of permutation [0 7 2 6 8 1]\n",
      "3 last elements of permutation  [9 3 4]\n",
      "6 random elements (from the start) [103 105 101 107 101 101]\n",
      "3 random elements (from the end)   [108 100 102]\n"
     ]
    }
   ],
   "source": [
    "#v = np.random.randint(100, size=10)+100\n",
    "#v = np.random.randint(10, size=10)+100\n",
    "print \"Original vector\", v\n",
    "p = np.random.permutation(len(v))\n",
    "print \"Permutation\", p\n",
    "print \"6 first elements of permutation\", p[:6]\n",
    "print \"3 last elements of permutation \", p[-3:]\n",
    "print \"6 random elements (from the start)\", v[p[:6]]\n",
    "print \"3 random elements (from the end)  \", v[p[-3:]]"
   ]
  },
  {
   "cell_type": "markdown",
   "metadata": {
    "collapsed": true
   },
   "source": [
    "Completa la función siguiente para que, dado un un estimador y un dataset `X/y`, repita `n_reps` veces el siguiente proceso, con `test_size` y `train_size`:\n",
    "\n",
    "- Escoja aleatoriamente un conjunto de elementos de entrenamiento de `X/y` de según `train_size` (p.ej., 0.2 indica el 20% de los datos)\n",
    "- Escoja aleatoriamente un conjunto de elementos de test de `X/y` de según `test_size` (p.ej., 0.2 indica el 20% de los datos). Estos datos **han de ser distintos** de los de entrenamiento. Puedes usar la técnica con permutaciones anterior. Asume que `test_size` + `train_size` es menor que 1.\n",
    "- Entrene el estimador con los elementos de entrenamiento seleccionados\n",
    "- Calcule el score con los datos de entrenamiento y con los de test\n",
    "\n",
    "La función ha de devolver dos listas de longitud `n_reps`, una con los scores de entrenamiento obtenidos y otra con los scores de test. Observa que en **cada repetición** hay que muestrear **nuevos** conjuntos de entrenamiento y de test."
   ]
  },
  {
   "cell_type": "code",
   "execution_count": null,
   "metadata": {
    "collapsed": false,
    "scrolled": false
   },
   "outputs": [],
   "source": [
    "def lc_point(estimator, X, y, train_size, test_size, n_reps):\n",
    "\n",
    "    if train_size + test_size > 1.:\n",
    "        raise ValueError(\"train size and test size must add up to 1 or less\")        \n",
    "    tr_size = int(len(X)*train_size)\n",
    "    ts_size = int(len(X)*test_size)\n",
    "    sc_train, sc_test = [], []\n",
    "    for i in range(n_reps):\n",
    "\n",
    "        X_train, y_train = ...\n",
    "        X_test, y_test   = ...\n",
    "        \n",
    "        estimator.fit(...)\n",
    "        sc_train.append(estimator.score(...))\n",
    "        sc_test.append(estimator.score(...))\n",
    "    return sc_train, sc_test\n",
    "\n",
    "import urllib, inspect\n",
    "src5 = urllib.quote_plus(inspect.getsource(lc_point))"
   ]
  },
  {
   "cell_type": "markdown",
   "metadata": {},
   "source": [
    "Comprueba tu código. El promedio con 1000 repeticiones en train y test ha de ser 0.75 y 0.66 aprox."
   ]
  },
  {
   "cell_type": "code",
   "execution_count": null,
   "metadata": {
    "collapsed": false
   },
   "outputs": [],
   "source": [
    "X,y = make_circles(300, noise=.1)\n",
    "estimator = DecisionTreeClassifier(max_depth=3)\n",
    "tr, ts = lc_point(estimator, X, y, .5,.5,1000)\n",
    "np.mean(tr), np.mean(ts)"
   ]
  },
  {
   "cell_type": "markdown",
   "metadata": {},
   "source": [
    "#### evaluate your answer before submitting:"
   ]
  },
  {
   "cell_type": "code",
   "execution_count": null,
   "metadata": {
    "collapsed": false
   },
   "outputs": [],
   "source": [
    "!./run CHECK_SOLUTION PS5_5 $src5"
   ]
  },
  {
   "cell_type": "markdown",
   "metadata": {},
   "source": [
    "#### submit your answer (you must be connected to internet)"
   ]
  },
  {
   "cell_type": "code",
   "execution_count": null,
   "metadata": {
    "collapsed": true
   },
   "outputs": [],
   "source": []
  },
  {
   "cell_type": "markdown",
   "metadata": {},
   "source": [
    "**YA ACABASTE EL PROBLEMSET**. Ahora si quieres experimenta con tu código. Las siguientes celdas generan curvas de aprendizaje y muestran fronteras de clasificación con árboles de decisión más y menos complejos y datasets más y menos ruidosos."
   ]
  },
  {
   "cell_type": "code",
   "execution_count": null,
   "metadata": {
    "collapsed": false
   },
   "outputs": [],
   "source": [
    "from sklearn.linear_model import LogisticRegression\n",
    "\n",
    "def plot_lc(estimator, X,y, train_sizes, test_size, n_reps=10):\n",
    "    r = np.array([[np.mean(tr), np.std(tr), np.mean(ts), np.std(ts)] \\\n",
    "                   for tr, ts in [lc_point(estimator, X,y, s,test_size, n_reps) \\\n",
    "                   for s in train_sizes]])\n",
    "\n",
    "    plt.plot(train_sizes, r[:,0], \"o-\", color=\"red\", label=\"train\")\n",
    "    plt.fill_between(train_sizes, r[:,0]-r[:,1], r[:,0]+r[:,1], alpha=.1, color=\"red\")\n",
    "\n",
    "    plt.plot(train_sizes, r[:,2], \"o-\", color=\"green\", label=\"test\")\n",
    "    plt.fill_between(train_sizes, r[:,2]-r[:,3], r[:,2]+r[:,3], alpha=.1, color=\"green\")\n",
    "    plt.legend(loc=\"best\")\n",
    "    plt.ylim(0,1.05); plt.xlim(train_sizes[0]*.80,train_sizes[-1]*1.05); plt.grid()\n",
    "    plt.xticks(train_sizes, [int(s*len(X)) for s in train_sizes])\n",
    "    plt.yticks(np.linspace(0,1,11));\n",
    "    plt.xlabel(\"train set size\")\n",
    "    plt.title(\"learning curve for test size \"+str(test_size))\n",
    "    plt.ylabel(\"score\")"
   ]
  },
  {
   "cell_type": "code",
   "execution_count": null,
   "metadata": {
    "collapsed": false
   },
   "outputs": [],
   "source": [
    "X,y = make_circles(300, noise=.1)\n",
    "test_size=.5\n",
    "est1, est2 = DecisionTreeClassifier(max_depth=2), DecisionTreeClassifier(max_depth=15)\n",
    "train_sizes = np.linspace(.1,.5,10)\n",
    "\n",
    "plt.figure(figsize=(15,4))\n",
    "plt.subplot(131)\n",
    "plot_lc(est1, X,y, train_sizes, test_size, n_reps=10)\n",
    "plt.subplot(132)\n",
    "plot_lc(est2, X,y, train_sizes, test_size, n_reps=10)\n",
    "plt.subplot(133)\n",
    "X,y = make_circles(300, noise=1e-5)\n",
    "plot_lc(est2, X,y, train_sizes, test_size, n_reps=10)\n"
   ]
  },
  {
   "cell_type": "markdown",
   "metadata": {},
   "source": [
    "juega con distintos valores del ruido en la generación del dataset"
   ]
  },
  {
   "cell_type": "code",
   "execution_count": null,
   "metadata": {
    "collapsed": false
   },
   "outputs": [],
   "source": [
    "n=300\n",
    "X,y = make_circles(n, noise=.1)\n",
    "Xtr, ytr, Xts, yts = X[:n/3], y[:n/3], X[-n/2:], y[-n/2:]\n",
    "est1.fit(Xtr, ytr);est2.fit(Xtr, ytr)\n",
    "plt.figure(figsize=(9,8))\n",
    "plt.subplot(221);plot_2Ddata_with_boundary(est1.predict, Xtr, ytr); plt.title(\"estimator 1 TRAIN data %.2f\"%est1.score(Xtr,ytr))\n",
    "plt.subplot(222);plot_2Ddata_with_boundary(est1.predict, Xts, yts); plt.title(\"estimator 1 TEST data %.2f\"%est1.score(Xts,yts))\n",
    "plt.subplot(223);plot_2Ddata_with_boundary(est2.predict, Xtr, ytr); plt.title(\"estimator 2 TRAIN data %.2f\"%est2.score(Xtr,ytr))\n",
    "plt.subplot(224);plot_2Ddata_with_boundary(est2.predict, Xts, yts); plt.title(\"estimator 2 TEST data %.2f\"%est2.score(Xts,yts))\n"
   ]
  },
  {
   "cell_type": "code",
   "execution_count": null,
   "metadata": {
    "collapsed": true
   },
   "outputs": [],
   "source": []
  }
 ],
 "metadata": {
  "kernelspec": {
   "display_name": "Python 2",
   "language": "python",
   "name": "python2"
  },
  "language_info": {
   "codemirror_mode": {
    "name": "ipython",
    "version": 2
   },
   "file_extension": ".py",
   "mimetype": "text/x-python",
   "name": "python",
   "nbconvert_exporter": "python",
   "pygments_lexer": "ipython2",
   "version": "2.7.12"
  },
  "toc": {
   "toc_cell": false,
   "toc_number_sections": false,
   "toc_threshold": 6,
   "toc_window_display": false
  },
  "widgets": {
   "state": {},
   "version": "1.1.2"
  }
 },
 "nbformat": 4,
 "nbformat_minor": 0
}
