{
 "cells": [
  {
   "cell_type": "markdown",
   "metadata": {},
   "source": [
    "## EJECUTA ESTA CELDA PARA AUTENTICARTE CON TU CUENTA DE GMAIL"
   ]
  },
  {
   "cell_type": "code",
   "execution_count": null,
   "metadata": {
    "collapsed": false
   },
   "outputs": [],
   "source": [
    "from mooclib import *\n",
    "import inspect, urllib\n",
    "html, auth_code, userinfo = google_authenticate(PORT_NUMBER=8080)\n",
    "html"
   ]
  },
  {
   "cell_type": "code",
   "execution_count": null,
   "metadata": {
    "collapsed": true
   },
   "outputs": [],
   "source": [
    "import numpy as np\n",
    "import matplotlib.pyplot as plt\n",
    "import pandas as pd\n",
    "from scipy.optimize import minimize\n",
    "%matplotlib inline"
   ]
  },
  {
   "cell_type": "markdown",
   "metadata": {},
   "source": [
    "# Ejercicio 1. Normalización del coste y gradiente\n",
    "\n",
    "Este ejercicio tiene 3 partes:\n",
    "\n",
    "(1) Implementa en `NORM_cost` una función de coste que implemente la siguiente definición:\n",
    "\n",
    "$$ J(\\theta) = \\frac{1}{m} \\sum_{i=0}^m (y^{(i)}-\\theta\\mathbf{x}^{(i)})^2$$\n",
    "\n",
    "y que acepte tres parámetros:\n",
    "\n",
    "- La matriz $\\mathbf{X} \\in \\mathbb{R}^{m\\times n}$ (con la primera columna de 1's ya añadida)\n",
    "- El vector $\\mathbf{y} \\in \\mathbb{R}^m$\n",
    "- Los parámetros $\\theta \\in \\mathbb{R}^n$ de una línea de regresión.\n",
    "\n",
    "(2) Implementa la función de gradiente correspondiente en `NORM_grad`\n",
    "\n",
    "(3) Implementa la función `LR_minimize` de forma que, internamente, llame a `sklearn.optimize.minimize`  con el método `BFGS` usando tanto la función de coste y de gradientes y que se llame con las dos funciones anteriores como argumentos, según se ilustra en el código de comprobación posterior. El valor de inicio del optimizador ha de ser el vector 0.\n",
    "\n",
    "El valor de $\\theta$ en el punto óptimo devuelto por el minimizador que empiece en el vector 0 ha de ser [24794.87, 2936.83] aprox., la función `NORM_cost` evaluada en ese punto 871737913 aprox. y el vector gradiente prácticamente 0."
   ]
  },
  {
   "cell_type": "code",
   "execution_count": null,
   "metadata": {
    "collapsed": false
   },
   "outputs": [],
   "source": [
    "def NORM_cost(Xc,yc,t):\n",
    "    return ... ## TU CODIGO AQUI\n",
    "\n",
    "def NORM_grad(Xc,yc,t):\n",
    "    return ... ## TU CODIGO AQUI\n",
    "\n",
    "def LR_minimize(cost_function, grad_function):\n",
    "    \n",
    "    from scipy.optimize import minimize\n",
    "    import numpy as np\n",
    "    import pandas as pd\n",
    "    \n",
    "    d = pd.read_csv(\"data/houses.csv\")\n",
    "    X = np.hstack((np.ones((len(d),1)), d[[\"area\"]].as_matrix()))\n",
    "    y = d.value.as_matrix()\n",
    "\n",
    "    x_init = np.zeros(X.shape[1])\n",
    "    rm = minimize(... ## TU CODIGO AQUI)\n",
    "    return rm\n",
    "\n",
    "import urllib, inspect\n",
    "src1 = urllib.quote_plus(inspect.getsource(NORM_cost)+\"\\n\"+\n",
    "                         inspect.getsource(NORM_grad)+\"\\n\"+\n",
    "                         inspect.getsource(LR_minimize))"
   ]
  },
  {
   "cell_type": "markdown",
   "metadata": {},
   "source": [
    "comprueba tu código"
   ]
  },
  {
   "cell_type": "code",
   "execution_count": null,
   "metadata": {
    "collapsed": false
   },
   "outputs": [],
   "source": [
    "rm = LR_minimize(NORM_cost, NORM_grad)\n",
    "print rm"
   ]
  },
  {
   "cell_type": "markdown",
   "metadata": {},
   "source": [
    "#### evaluate your answer before submitting:"
   ]
  },
  {
   "cell_type": "code",
   "execution_count": null,
   "metadata": {
    "collapsed": false
   },
   "outputs": [],
   "source": [
    "!./run CHECK_SOLUTION PS2_1 $src1"
   ]
  },
  {
   "cell_type": "markdown",
   "metadata": {
    "collapsed": true
   },
   "source": [
    "#### submit your answer (you must be connected to internet)"
   ]
  },
  {
   "cell_type": "code",
   "execution_count": null,
   "metadata": {
    "collapsed": false
   },
   "outputs": [],
   "source": [
    "!./run SUBMIT_SOLUTION PS2_1 $src1"
   ]
  },
  {
   "cell_type": "markdown",
   "metadata": {},
   "source": [
    "# Ejercicio 2. Normalización de datos \n",
    "\n",
    "Completa la siguiente función para que, dada una matriz $\\in \\mathbb{R}^{m\\times n}$, cada dato $x_j^{(i)}$ está normalizado de la siguiente manera:\n",
    "\n",
    "$$\\hat{x}_j^{(i)} = \\frac{x_j^{(i)} - \\mu_j}{\\sigma_j} $$\n",
    "\n",
    "donde $\\mu_j$ y $\\sigma_j$ es la media y desviación estándar de los elementos de la columna $j$. Esto produce un dataset cuyas columnas tienen 0 de promedio y 1 de desviación estándar.\n",
    "\n",
    "Usa para este ejercicio [`sklearn.preprocessing.StandardScaler`](http://scikit-learn.org/stable/modules/generated/sklearn.preprocessing.StandardScaler.html) que ya tiene impementada esta transformación. La función debe de devolver dos resultados:\n",
    "\n",
    "- `Xr` $\\in \\mathbb{R}^{m\\times n}$ la matrix transformada\n",
    "- `sc` el objeto `StandardScaler` usado para realizar la transformación. \n",
    "\n",
    "Una vez realizada la transformación, los parámetros `mean_` y `scale_` del objeto `sc` deben de coincidir con las medias y stds de cada columna de la matriz original."
   ]
  },
  {
   "cell_type": "code",
   "execution_count": null,
   "metadata": {
    "collapsed": false
   },
   "outputs": [],
   "source": [
    "def normalize_data(X):\n",
    "    from sklearn.preprocessing import StandardScaler\n",
    "    sc = ... ## TU CODIGO AQUI . CREA UNA INSTANCIA DE StandardScaler\n",
    "    Xr = ... ## TU CODIGO AQUI . TRANSFORMA X CON LA INSTANCIA CREADA ANTERIORMENTE\n",
    "    return Xr,sc\n",
    "\n",
    "import urllib, inspect\n",
    "src2 = urllib.quote_plus(inspect.getsource(normalize_data))"
   ]
  },
  {
   "cell_type": "markdown",
   "metadata": {},
   "source": [
    "Comprueba tu código"
   ]
  },
  {
   "cell_type": "code",
   "execution_count": null,
   "metadata": {
    "collapsed": false
   },
   "outputs": [],
   "source": [
    "from sklearn.preprocessing import StandardScaler\n",
    "d = pd.read_csv(\"data/houses.csv\")\n",
    "X = d.as_matrix()\n",
    "print X.shape\n",
    "Xr,sc = normalize_data(X)\n",
    "\n",
    "print \"Transformed column means\", np.mean(Xr, axis=0)\n",
    "print \"Transformed column stds\", np.std(Xr, axis=0)\n",
    "print \"Standard Scaler object means\", sc.mean_\n",
    "print \"Original data means         \", np.mean(X, axis=0)\n",
    "print \"Standard Scaler object stds \", sc.scale_\n",
    "print \"Original data stds          \", np.std(X, axis=0)\n"
   ]
  },
  {
   "cell_type": "markdown",
   "metadata": {},
   "source": [
    "#### evaluate your answer before submitting:"
   ]
  },
  {
   "cell_type": "code",
   "execution_count": null,
   "metadata": {
    "collapsed": false
   },
   "outputs": [],
   "source": [
    "!./run CHECK_SOLUTION PS2_2 $src2"
   ]
  },
  {
   "cell_type": "markdown",
   "metadata": {},
   "source": [
    "#### submit your answer (you must be connected to internet)"
   ]
  },
  {
   "cell_type": "code",
   "execution_count": null,
   "metadata": {
    "collapsed": false
   },
   "outputs": [],
   "source": [
    "!./run SUBMIT_SOLUTION PS2_2 $src2"
   ]
  },
  {
   "cell_type": "markdown",
   "metadata": {},
   "source": [
    "# Ejercicio 3. Gradiente descendiente\n",
    "Completa la función siguiente para implementar el Gradiente descendiente para regresión lineal usando el coste y los datos normalizados. Tendrás que:\n",
    "\n",
    "- Normalizar la matriz X donde se especificia, como hiciste con el ejercicio 2\n",
    "- Calcular el gradiente normalizado, como hiciste en el ejercicio 1\n",
    "- Calcular el vector `delta` multiplicando el gradiente normalizado por el `step_size`\n",
    "- Restarle el vector `delta` al valor actual de los parámetros (variable `theta`)\n",
    "- Devolver el `theta` final y el objeto `StandardScaler` usando en la normalización de los datos\n",
    "\n",
    "Fíjate que:\n",
    "\n",
    "- el valor inicial de `theta` es el vector de ceros.\n",
    "- si normalizáramos el gradiente estaría descomponesado y no convergería.\n",
    "\n",
    "_observación_: **NO** llames a funciones de ejercicios anteriores para crear la lista de símbolos, simplemente copia el código a esta."
   ]
  },
  {
   "cell_type": "code",
   "execution_count": null,
   "metadata": {
    "collapsed": true
   },
   "outputs": [],
   "source": [
    "def grad_descent(step_size=0.1, max_steps=100, min_delta=1e-3):\n",
    "    import pandas as pd\n",
    "    import numpy as np\n",
    "    from sklearn.preprocessing import StandardScaler\n",
    "\n",
    "    d = pd.read_csv(\"data/houses.csv\")\n",
    "    X = d[[\"area\"]].as_matrix()\n",
    "    y = d.value.as_matrix().astype(float)\n",
    "    \n",
    "    # ESTUDIANTE: NORMALIZA X y ANADELE UNA PRIMERA COLUMNA DE 1's\n",
    "    X = ... ## TU CODIGO AQUI\n",
    "\n",
    "    theta = np.zeros(X.shape[1])\n",
    "    for i in range(max_steps):\n",
    "        gradient = ... ## TU CODIGO AQUI\n",
    "        delta    = ... ## TU CODIGO AQUI\n",
    "        \n",
    "        if np.linalg.norm(delta)<min_delta:\n",
    "            break\n",
    "            \n",
    "        theta = ... ## TU CODIGO AQUI\n",
    "    return theta, sc\n",
    "    \n",
    "import urllib, inspect\n",
    "src3 = urllib.quote_plus(inspect.getsource(grad_descent))"
   ]
  },
  {
   "cell_type": "markdown",
   "metadata": {},
   "source": [
    "Comprubea tu código. Theta  debe de dar [ 323145,   88123] aprox. y la media y std del scaler deben de ser 101, 30 respectivamente aprox."
   ]
  },
  {
   "cell_type": "code",
   "execution_count": null,
   "metadata": {
    "collapsed": false
   },
   "outputs": [],
   "source": [
    "rg,sc = grad_descent (step_size=.5)\n",
    "print \"Theta \", rg\n",
    "print \"Scaler\", sc.mean_, sc.scale_"
   ]
  },
  {
   "cell_type": "markdown",
   "metadata": {},
   "source": [
    "#### evaluate your answer before submitting:"
   ]
  },
  {
   "cell_type": "code",
   "execution_count": null,
   "metadata": {
    "collapsed": false
   },
   "outputs": [],
   "source": [
    "!./run CHECK_SOLUTION PS2_3 $src3"
   ]
  },
  {
   "cell_type": "markdown",
   "metadata": {},
   "source": [
    "#### submit your answer (you must be connected to internet)"
   ]
  },
  {
   "cell_type": "code",
   "execution_count": null,
   "metadata": {
    "collapsed": false
   },
   "outputs": [],
   "source": [
    "!./run SUBMIT_SOLUTION PS2_3 $src3"
   ]
  },
  {
   "cell_type": "markdown",
   "metadata": {},
   "source": [
    "# Ejercicio 4. Predicción\n",
    "\n",
    "Para un dataset $X \\in \\mathbb{R}^{m \\times n}$, asume que el '1' NO está añadido al principio de cada fila de $X$ (tienes que añadirle una primera columna de m 1's).\n",
    "\n",
    "Dado un $x^{(i)}\\in \\mathbb{R}^n$ (es decir, una fila de $X$) y un $\\theta$ previamente calculado, la predicción para ese elemento es $\\theta \\cdot x^{(i)}$ y además $\\in \\mathbb{R}$ (la predicción es un escalar)\n",
    "\n",
    "Para la entrada $X \\in \\mathbb{R}^{m \\times n}$, la función ha de devolver un vector de predicciones $\\in \\mathbb{R}^m$\n"
   ]
  },
  {
   "cell_type": "code",
   "execution_count": null,
   "metadata": {
    "collapsed": true
   },
   "outputs": [],
   "source": [
    "def predict(X, theta, sc=None):    \n",
    "    Xs = ... ## TU CODIGO AQUI. TRANSFORMA X SI sc NO ES None\n",
    "    Xs = ... ## TU CODIGO AQUI. ANADELE UNA COLUMNA DE 1's AL RESULTADO DE LA TRANSFORMACION ANTERIOR\n",
    "    prediction = ... ## TU CODIGO AQUI. CALCULA EL VECTOR DE PREDICCIONES\n",
    "    return prediction\n",
    "\n",
    "import urllib, inspect\n",
    "src4 = urllib.quote_plus(inspect.getsource(predict))"
   ]
  },
  {
   "cell_type": "markdown",
   "metadata": {},
   "source": [
    "comprueba tu código. ambas rectas, obtenidas con scipy.optimize y con tu implementación del gradiente descendiente deben de coincidir."
   ]
  },
  {
   "cell_type": "code",
   "execution_count": null,
   "metadata": {
    "collapsed": false
   },
   "outputs": [],
   "source": [
    "d = pd.read_csv(\"data/houses.csv\")\n",
    "area = d[[\"area\"]].as_matrix()\n",
    "\n",
    "rm = LR_minimize(NORM_cost, NORM_grad)\n",
    "rg,sc = grad_descent (step_size=.5)\n",
    "\n",
    "X = np.hstack((np.ones((len(d),1)), d[[\"area\"]].as_matrix()))\n",
    "y = d.value.as_matrix().astype(float)\n",
    "\n",
    "xg = np.linspace(np.min(X[:,1]), np.max(X[:,1]),100).reshape(-1,1)\n",
    "plt.scatter(X[:,1], y, color=\"green\", alpha=0.5, label=\"data\")\n",
    "plt.plot(xg, predict(xg,rm.x), lw=10, alpha=0.5, color=\"blue\", label=\"scipy minimize solution\")\n",
    "plt.plot(xg, predict(xg,rg,sc), lw=2, alpha=1., color=\"red\", label=\"gradient descent solution\")\n",
    "plt.legend(loc='center left', bbox_to_anchor=(1, 0.5))\n",
    "print \"gradient descent theta (using normalization)\", rg\n",
    "print \"scipy minimize theta (no normalization)     \", rm.x"
   ]
  },
  {
   "cell_type": "markdown",
   "metadata": {},
   "source": [
    "#### evaluate your answer before submitting:"
   ]
  },
  {
   "cell_type": "code",
   "execution_count": null,
   "metadata": {
    "collapsed": false
   },
   "outputs": [],
   "source": [
    "!./run CHECK_SOLUTION PS2_4 $src4"
   ]
  },
  {
   "cell_type": "markdown",
   "metadata": {},
   "source": [
    "#### submit your answer (you must be connected to internet)"
   ]
  },
  {
   "cell_type": "code",
   "execution_count": null,
   "metadata": {
    "collapsed": true
   },
   "outputs": [],
   "source": [
    "!./run SUBMIT_SOLUTION PS2_4 $src4"
   ]
  },
  {
   "cell_type": "markdown",
   "metadata": {},
   "source": [
    "# Ejercicio 5: `sklearn` LinearRegression\n",
    "\n",
    "Usa [`sklearn.linear_model.LinearRegression`](http://scikit-learn.org/stable/modules/generated/sklearn.linear_model.LinearRegression.html) para crear un modelo de regresión lineal según está implementado en `sklearn`. Puedes ver cómo se usa en [este ejemplo](http://scikit-learn.org/stable/auto_examples/linear_model/plot_ols.html).\n",
    "\n",
    "_observación_: Usa el parámetro `fit_intercept=True`. **NO** llames a funciones de ejercicios anteriores para crear la lista de símbolos, simplemente copia el código a esta."
   ]
  },
  {
   "cell_type": "code",
   "execution_count": null,
   "metadata": {
    "collapsed": false
   },
   "outputs": [],
   "source": [
    "def sklearnLR():\n",
    "    \n",
    "    from sklearn.linear_model import LinearRegression\n",
    "    from sklearn.preprocessing import StandardScaler\n",
    "    import pandas as pd\n",
    "    d = pd.read_csv(\"data/houses.csv\")\n",
    "\n",
    "    X = d[[\"area\"]].as_matrix()\n",
    "    y = d.value.as_matrix().astype(float)\n",
    "\n",
    "\n",
    "    lr = ... ## TU CODIGO AQUI. CREA UNA INSTANCIA DE LinearRegression\n",
    "    Xs = ... ## TU CODIGO AQUI. NORMALIZA TUS DATOS CON UN StandardScaler\n",
    "    \n",
    "    ... ## TU CODIGO AQUI. LLAMA A lr.fit\n",
    "\n",
    "    return lr, sc\n",
    "    \n",
    "import urllib, inspect\n",
    "src5 = urllib.quote_plus(inspect.getsource(sklearnLR))"
   ]
  },
  {
   "cell_type": "markdown",
   "metadata": {},
   "source": [
    "Comprueba tu código. El coeficiente e intercept calculados por sklearn tienen que ser muy parecidos a los que calculaste con tu gradiente descendiente en los ejercicios anteriores."
   ]
  },
  {
   "cell_type": "code",
   "execution_count": null,
   "metadata": {
    "collapsed": false
   },
   "outputs": [],
   "source": [
    "lr, sc = sklearnLR()\n",
    "print lr.intercept_, lr.coef_"
   ]
  },
  {
   "cell_type": "markdown",
   "metadata": {},
   "source": [
    "#### evaluate your answer before submitting:"
   ]
  },
  {
   "cell_type": "code",
   "execution_count": null,
   "metadata": {
    "collapsed": false
   },
   "outputs": [],
   "source": [
    "!./run CHECK_SOLUTION PS2_5 $src5"
   ]
  },
  {
   "cell_type": "markdown",
   "metadata": {},
   "source": [
    "#### submit your answer (you must be connected to internet)"
   ]
  },
  {
   "cell_type": "code",
   "execution_count": null,
   "metadata": {
    "collapsed": true
   },
   "outputs": [],
   "source": [
    "!./run SUBMIT_SOLUTION PS2_5 $src5"
   ]
  }
 ],
 "metadata": {
  "kernelspec": {
   "display_name": "Python 2",
   "language": "python",
   "name": "python2"
  },
  "language_info": {
   "codemirror_mode": {
    "name": "ipython",
    "version": 2
   },
   "file_extension": ".py",
   "mimetype": "text/x-python",
   "name": "python",
   "nbconvert_exporter": "python",
   "pygments_lexer": "ipython2",
   "version": "2.7.11"
  },
  "toc": {
   "toc_cell": false,
   "toc_number_sections": false,
   "toc_threshold": 6,
   "toc_window_display": false
  },
  "widgets": {
   "state": {},
   "version": "1.1.2"
  }
 },
 "nbformat": 4,
 "nbformat_minor": 0
}
