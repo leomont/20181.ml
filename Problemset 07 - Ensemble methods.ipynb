{
 "cells": [
  {
   "cell_type": "markdown",
   "metadata": {},
   "source": [
    "## EJECUTA ESTA CELDA PARA AUTENTICARTE CON TU CUENTA DE GMAIL"
   ]
  },
  {
   "cell_type": "code",
   "execution_count": null,
   "metadata": {
    "collapsed": false
   },
   "outputs": [],
   "source": [
    "from mooclib import *\n",
    "import inspect, urllib\n",
    "html, auth_code, userinfo = google_authenticate(PORT_NUMBER=8080)\n",
    "html"
   ]
  },
  {
   "cell_type": "code",
   "execution_count": null,
   "metadata": {
    "collapsed": true
   },
   "outputs": [],
   "source": [
    "from sklearn.datasets import *\n",
    "import numpy as np\n",
    "import matplotlib.pyplot as plt\n",
    "%matplotlib inline\n",
    "\n",
    "\n",
    "def plot_2Ddata_with_boundary(predict,X,y):\n",
    "    n = 200\n",
    "    mins,maxs = np.min(X,axis=0), np.max(X,axis=0)\n",
    "    mins -= np.abs(mins)*.2\n",
    "    maxs += np.abs(maxs)*.2\n",
    "    d0 = np.linspace(mins[0], maxs[0],n)\n",
    "    d1 = np.linspace(mins[1], maxs[1],n)\n",
    "    gd0,gd1 = np.meshgrid(d0,d1)\n",
    "    D = np.hstack((gd0.reshape(-1,1), gd1.reshape(-1,1)))\n",
    "    p = (predict(D)*1.).reshape((n,n))\n",
    "    plt.contourf(gd0,gd1,p, levels=[-0.1,0.5], alpha=0.5, cmap=plt.cm.Greys)\n",
    "    plt.scatter(X[y==0][:,0], X[y==0][:,1], c=\"blue\")\n",
    "    plt.scatter(X[y==1][:,0], X[y==1][:,1], c=\"red\")"
   ]
  },
  {
   "cell_type": "markdown",
   "metadata": {},
   "source": [
    "## Ejercicio 1\n",
    "\n",
    "completa la siguiente función para que, dado un estimador, devuelva una lista con $n$ réplicas del mismo. Usa la función [`sklearn.base.clone`](http://scikit-learn.org/stable/modules/generated/sklearn.base.clone.html)"
   ]
  },
  {
   "cell_type": "code",
   "execution_count": null,
   "metadata": {
    "collapsed": true
   },
   "outputs": [],
   "source": [
    "def clone_estimators(estimator, n):\n",
    "    from sklearn.base import clone\n",
    "    estimators = ...\n",
    "    return estimators\n",
    "\n",
    "import urllib, inspect\n",
    "src1 = urllib.quote_plus(inspect.getsource(clone_estimators))"
   ]
  },
  {
   "cell_type": "markdown",
   "metadata": {},
   "source": [
    "#### evaluate your answer before submitting:"
   ]
  },
  {
   "cell_type": "code",
   "execution_count": null,
   "metadata": {
    "collapsed": false
   },
   "outputs": [],
   "source": [
    "!./run CHECK_SOLUTION PS7_1 $src1"
   ]
  },
  {
   "cell_type": "markdown",
   "metadata": {},
   "source": [
    "#### submit your answer (you must be connected to internet)"
   ]
  },
  {
   "cell_type": "code",
   "execution_count": null,
   "metadata": {
    "collapsed": false
   },
   "outputs": [],
   "source": [
    "!./run SUBMIT_SOLUTION PS7_1 $src1"
   ]
  },
  {
   "cell_type": "markdown",
   "metadata": {},
   "source": [
    "## Ejercicio 2\n",
    "\n",
    "Completa la siguiente función para que, cada estimador de la lista `estimators`:\n",
    "    \n",
    "- muestree un porcentaje `train_pct` de datos para entrenamiento de `X` e `y`.\n",
    "- entrene el estimador con los datos muestreados\n",
    "\n",
    "y finalmente devuelva la lista con los estimadores entrenados. Observa que cada estimador se entrena con una muestra distinta"
   ]
  },
  {
   "cell_type": "code",
   "execution_count": null,
   "metadata": {
    "collapsed": true
   },
   "outputs": [],
   "source": [
    "def sample_train(estimators, X, y, train_pct):\n",
    "    from sklearn.cross_validation import train_test_split      \n",
    "    \n",
    "    resulting_estimators = ...\n",
    "\n",
    "    return resulting_estimators\n",
    "\n",
    "import urllib, inspect\n",
    "src2 = urllib.quote_plus(inspect.getsource(sample_train))"
   ]
  },
  {
   "cell_type": "markdown",
   "metadata": {},
   "source": [
    "#### evaluate your answer before submitting:"
   ]
  },
  {
   "cell_type": "code",
   "execution_count": null,
   "metadata": {
    "collapsed": false
   },
   "outputs": [],
   "source": [
    "!./run CHECK_SOLUTION PS7_2 $src2"
   ]
  },
  {
   "cell_type": "markdown",
   "metadata": {},
   "source": [
    "#### submit your answer (you must be connected to internet)"
   ]
  },
  {
   "cell_type": "code",
   "execution_count": null,
   "metadata": {
    "collapsed": false
   },
   "outputs": [],
   "source": [
    "!./run SUBMIT_SOLUTION PS7_2 $src2"
   ]
  },
  {
   "cell_type": "markdown",
   "metadata": {},
   "source": [
    "## Ejercio 3\n",
    "\n",
    "organiza tu código de los dos ejercicios anteriores en la siguiente clase y, además, implementa un método `predict` en el que clasifique un cada ejemplo según la clase mayoritaria predicha por todos los estimadores. Observa que:\n",
    "\n",
    "- `self.base_estimator` tiene el estimador base\n",
    "- `self.nb_resamples` y `self.train_pct` contienen el número de remuestreos y el porcentaje de train para cada muestreo\n",
    "- `self._estimators` ha de contener la lista de estimadores clonados del estimador base"
   ]
  },
  {
   "cell_type": "code",
   "execution_count": null,
   "metadata": {
    "collapsed": false
   },
   "outputs": [],
   "source": [
    "def ResamplingEnsemble(**args): # hack for inspect to work with classes\n",
    "    \n",
    "    class ResamplingEnsemble_class:\n",
    "\n",
    "        def __init__(self, base_estimator, nb_resamples, train_pct):\n",
    "            self.base_estimator = base_estimator\n",
    "            self.nb_resamples   = nb_resamples\n",
    "            self.train_pct      = train_pct\n",
    "\n",
    "        def fit(self, X, y):\n",
    "            from sklearn.cross_validation import train_test_split        \n",
    "            from sklearn.base import clone\n",
    "\n",
    "            self._estimators     = ... # clone base estimators\n",
    "            for estimator in self._estimators:\n",
    "                ... ## sample train data\n",
    "                ... ## fit estimator\n",
    "\n",
    "        def predict(self, X)\n",
    "        \n",
    "            predictions = ... ## call predict from all self._estimators and make a for for each prediction\n",
    "            \n",
    "            return predictions\n",
    "\n",
    "        def score(self, X,y):\n",
    "            return np.sum(self.predict(X)==y)*1./len(X)\n",
    "\n",
    "        def get_params(self, deep=None):\n",
    "            return {\"base_estimator\":self.base_estimator, \n",
    "                    \"nb_resamples\": self.nb_resamples, \n",
    "                    \"train_pct\": self.train_pct}\n",
    "        \n",
    "    return ResamplingEnsemble_class(**args)\n",
    "\n",
    "import urllib, inspect\n",
    "src3 = urllib.quote_plus(inspect.getsource(ResamplingEnsemble))"
   ]
  },
  {
   "cell_type": "markdown",
   "metadata": {},
   "source": [
    "Comprueba tu código. Observa las fronteras de clasificación creadas a partir de clasificadores sencillos. El ensemble debe de tener un score de 0.8 approx. Ejecútalo varias veces para adquirir seguridad y entendimiento."
   ]
  },
  {
   "cell_type": "code",
   "execution_count": null,
   "metadata": {
    "collapsed": false
   },
   "outputs": [],
   "source": [
    "from sklearn.tree import DecisionTreeClassifier\n",
    "from sklearn.cross_validation import cross_val_score\n",
    "X,y = make_circles(400, noise=0.05)\n",
    "\n",
    "dt = DecisionTreeClassifier(max_depth=3)\n",
    "rs = ResamplingEnsemble(base_estimator=dt, nb_resamples=10, train_pct=.1)\n",
    "rs.fit(X,y)\n",
    "dt.fit(X,y)\n",
    "\n",
    "plt.figure(figsize=(12,4))\n",
    "plt.subplot(121)\n",
    "plot_2Ddata_with_boundary(rs.predict, X,y)\n",
    "plt.title(\"ENSEMBLE score %.3f\"%np.mean(cross_val_score(rs, X,y, cv=10)))\n",
    "plt.subplot(122)\n",
    "plot_2Ddata_with_boundary(dt.predict, X,y)\n",
    "plt.title(\"SINGLE TREE score %.3f\"%np.mean(cross_val_score(dt, X,y, cv=10)))"
   ]
  },
  {
   "cell_type": "markdown",
   "metadata": {},
   "source": [
    "#### evaluate your answer before submitting:"
   ]
  },
  {
   "cell_type": "code",
   "execution_count": null,
   "metadata": {
    "collapsed": false
   },
   "outputs": [],
   "source": [
    "!./run CHECK_SOLUTION PS7_3 $src3"
   ]
  },
  {
   "cell_type": "markdown",
   "metadata": {},
   "source": [
    "#### submit your answer (you must be connected to internet)"
   ]
  },
  {
   "cell_type": "code",
   "execution_count": null,
   "metadata": {
    "collapsed": false
   },
   "outputs": [],
   "source": [
    "!./run SUBMIT_SOLUTION PS7_3 $src3"
   ]
  },
  {
   "cell_type": "code",
   "execution_count": null,
   "metadata": {
    "collapsed": true
   },
   "outputs": [],
   "source": []
  }
 ],
 "metadata": {
  "kernelspec": {
   "display_name": "Python 2",
   "language": "python",
   "name": "python2"
  },
  "language_info": {
   "codemirror_mode": {
    "name": "ipython",
    "version": 2
   },
   "file_extension": ".py",
   "mimetype": "text/x-python",
   "name": "python",
   "nbconvert_exporter": "python",
   "pygments_lexer": "ipython2",
   "version": "2.7.11"
  },
  "toc": {
   "toc_cell": false,
   "toc_number_sections": false,
   "toc_threshold": 6,
   "toc_window_display": false
  },
  "widgets": {
   "state": {},
   "version": "1.1.2"
  }
 },
 "nbformat": 4,
 "nbformat_minor": 0
}
